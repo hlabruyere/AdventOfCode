{
 "cells": [
  {
   "cell_type": "code",
   "execution_count": 397,
   "metadata": {},
   "outputs": [],
   "source": [
    "from aocd.models import Puzzle\n",
    "from aocd import get_data\n",
    "import requests, os\n",
    "cookie=\"session=53616c7465645f5f33db386b5f944c7308634812ebbb053f462c8fd3022f88c69d90e4fa9c9acf0118b53e443953aeb286410386269e16e30fcfafdf92aafb3e\"\n",
    "proxies = {\n",
    "   'http': 'http://proxy.foret:3128',\n",
    "   'https': 'http://proxy.foret:3128',\n",
    "}\n",
    "\n",
    "def dlinput(day,year=2022,overwrite=False,proxies={}):\n",
    "    if (overwrite or not(os.path.exists(str(day)))):\n",
    "        r = requests.get('https://adventofcode.com/'+str(year)+'/day/'+str(day)+'/input', headers={'cookie': cookie}, proxies=proxies).text.rstrip()\n",
    "        with open(str(day), 'w') as f:\n",
    "                f.write(r)\n",
    "        return r\n",
    "    else:\n",
    "        with open(str(day), 'r') as f:\n",
    "            txt = f.read()\n",
    "        return txt\n",
    "    \n",
    "from collections import defaultdict,Counter\n"
   ]
  },
  {
   "cell_type": "code",
   "execution_count": 455,
   "metadata": {},
   "outputs": [
    {
     "name": "stdout",
     "output_type": "stream",
     "text": [
      "part1:  64929 part2:  193697\n"
     ]
    }
   ],
   "source": [
    "T=list(map(lambda x:sum(map(int,x.split(\"\\n\"))),get_data(day=1).split(\"\\n\\n\")))\n",
    "T.sort()\n",
    "print(\"part1: \", T[-1], \"part2: \", sum(T[-3:]))"
   ]
  },
  {
   "cell_type": "code",
   "execution_count": 378,
   "metadata": {},
   "outputs": [
    {
     "name": "stdout",
     "output_type": "stream",
     "text": [
      "part1: 8392 part2: 10116\n",
      "part1: 8392 part2: 10116\n"
     ]
    }
   ],
   "source": [
    "T=list(map(lambda x:(\"ABC\".find(x[0]),\"XYZ\".find(x[2])),Puzzle(day=2,year=2022).input_data.split(\"\\n\")))\n",
    "print(\"part1:\",sum(b+1         + 3*((b-a+1)%3) for a,b in T),\n",
    "      \"part2:\",sum((a+b-1)%3+1 + b*3           for a,b in T))\n",
    "\n",
    "print(*[\"part\"+str(i+1)+\": \"+str(sum(part)) for i,part in enumerate(zip(*[ ( b+1 + (b+1-a)%3*3 , 3*b + (a+b-1)%3+1 ) for x in (dlinput(2).split(\"\\n\")) for a,b in [(\"ABC\".find(x[0]),\"XYZ\".find(x[2]))]]))])"
   ]
  },
  {
   "cell_type": "code",
   "execution_count": 381,
   "metadata": {},
   "outputs": [
    {
     "name": "stdout",
     "output_type": "stream",
     "text": [
      "part1: 7737\n",
      "part2: 2697\n"
     ]
    }
   ],
   "source": [
    "A=' abcdefghijklmnopqrstuvwxyzABCDEFGHIJKLMNOPQRSTUVWXYZ'\n",
    "T = Puzzle(day=3,year=2022).input_data.split(\"\\n\")\n",
    "print(\"part1:\",sum(A.find(set(x[:len(x)//2]).intersection(x[len(x)//2:]).pop()) for x in T))\n",
    "print(\"part2:\",sum(A.find(set(T[i]).intersection(set(T[i+1])).intersection(set(T[i+2])).pop()) \n",
    "                   for i in range(0,len(T),3)))"
   ]
  },
  {
   "cell_type": "code",
   "execution_count": 209,
   "metadata": {},
   "outputs": [
    {
     "name": "stdout",
     "output_type": "stream",
     "text": [
      "Part1: 657 Part2: 938\n"
     ]
    }
   ],
   "source": [
    "import re\n",
    "T = [[int(i) for i in re.split(\",|-\",l)] for l in dlinput(4).split(\"\\n\")]\n",
    "M = [ (min(M1,M2)-max(m1,m2), min(M1-m1,M2-m2)) for m1,M1,m2,M2 in T]\n",
    "print(\"Part1:\", sum(a>=b for a,b in M), \"Part2:\", sum(a>=0 for a,b in M))"
   ]
  },
  {
   "cell_type": "code",
   "execution_count": 377,
   "metadata": {},
   "outputs": [
    {
     "name": "stdout",
     "output_type": "stream",
     "text": [
      "part1: CMZ part2: MCD\n"
     ]
    }
   ],
   "source": [
    "def parts(p):\n",
    "    S = list(map(lambda x:[c for c in x if c!=' '],zip(*I)))\n",
    "    for n,s,d in M:\n",
    "        S[d-1].extend((S[s-1][-n:][::-1],S[s-1][-n:])[p-1])\n",
    "        S[s-1] = S[s-1][:-n]\n",
    "    return \"\".join(p.pop() for p in S)\n",
    "\n",
    "puzzle = Puzzle(day=5,year=2022)\n",
    "I,M = puzzle.example_data.split(\"\\n\\n\")\n",
    "I   = [i[1::4] for i in I.split(\"\\n\")[::-1]][1:]\n",
    "M   = [[int(i) for i in m.split(\" \")[1::2]] for m in M.split(\"\\n\")]\n",
    "print(\"part1:\",parts(1), \"part2:\", parts(2))\n"
   ]
  },
  {
   "cell_type": "code",
   "execution_count": 396,
   "metadata": {},
   "outputs": [
    {
     "name": "stdout",
     "output_type": "stream",
     "text": [
      "part1: 1623 part2: 3774\n"
     ]
    }
   ],
   "source": [
    "data=Puzzle(day=6,year=2022).input_data\n",
    "def start(n):\n",
    "    return next(i for i in range(len(data)) if len(set(data[i:i+n]))==n)+n\n",
    "print(\"part1:\",start(4), \"part2:\", start(14))"
   ]
  },
  {
   "cell_type": "code",
   "execution_count": 462,
   "metadata": {},
   "outputs": [
    {
     "name": "stdout",
     "output_type": "stream",
     "text": [
      "part1: 919137 part2: 2877389\n"
     ]
    }
   ],
   "source": [
    "S=Puzzle(day=7,year=2022).input_data.split(\"\\n\")\n",
    "cur, dirs, files = [], Counter(), {}\n",
    "dirs=Counter()\n",
    "while len(S):\n",
    "    line = S.pop(0)\n",
    "    if line[0:4] == \"$ cd\":\n",
    "        d = line[5:]\n",
    "        if   d[0] == \"/\": cur = [] if d==\"/\" else d.split(\"/\")[1:]\n",
    "        elif d == \"..\"  : cur = cur[:-1]\n",
    "        elif d != \".\"   : cur += d.split(\"/\")\n",
    "    elif line[0:4] != \"$ ls\" and line[0:4] != \"dir \":\n",
    "        s,fn = line.split(\" \")\n",
    "        for i in range(len(cur)+1): dirs[\"/\".join(cur[:i])] += int(s)\n",
    "\n",
    "l=list(dirs.values())\n",
    "l.sort()\n",
    "\n",
    "print(\"part1:\", sum(i for i in l if i<=100000),\n",
    "     \"part2:\", next(i for i in l if i>l[-1]-40000000))\n",
    "Puzzle(day=7,year=2022).answer_a = sum( i for i in l if i<=100000)\n",
    "Puzzle(day=7,year=2022).answer_b = next(i for i in l if i>l[-1]-40000000)"
   ]
  },
  {
   "cell_type": "code",
   "execution_count": 614,
   "metadata": {},
   "outputs": [
    {
     "name": "stdout",
     "output_type": "stream",
     "text": [
      "part1: 1698\n",
      "part2: 672280\n"
     ]
    }
   ],
   "source": [
    "S=Puzzle(day=8,year=2022).input_data.split(\"\\n\")\n",
    "\n",
    "from itertools import count\n",
    "\n",
    "width=len(S[0])\n",
    "\n",
    "print(\"part1:\",sum(1 for i in range(width) for j in range(width) if i in [0,width-1] or j in [0,width-1]\n",
    "            or S[i][j]>max(S[i][k] for k in range(j))\n",
    "            or S[i][j]>max(S[i][k] for k in range(j+1,width))\n",
    "            or S[i][j]>max(S[k][j] for k in range(i))\n",
    "            or S[i][j]>max(S[k][j] for k in range(i+1,width))))\n",
    "\n",
    "print(\"part2:\",  max(next((k for k in range(1,i)      if S[i][j]<=S[i-k][j]) , i        )*\n",
    "                    next((k for k in range(1,width-i-1) if S[i][j]<=S[i+k][j]) , width-i-1)*\n",
    "                    next((k for k in range(1,j)       if S[i][j]<=S[i][j-k]) , j        )*\n",
    "                    next((k for k in range(1,width-j-1) if S[i][j]<=S[i][j+k]) , width-j-1)\n",
    "                    for i in range(1,width-1) for j in range(1,width-1)))"
   ]
  },
  {
   "cell_type": "code",
   "execution_count": 683,
   "metadata": {},
   "outputs": [
    {
     "name": "stdout",
     "output_type": "stream",
     "text": [
      "part1: 6057 part2: 2514\n"
     ]
    }
   ],
   "source": [
    "d={\"U\":(1,0),\"D\":(-1,0),\"R\":(0,1),\"L\":(0,-1)}\n",
    "def tadd(x,y): return tuple(map(sum,(zip(x,y))))\n",
    "def sign(x): return int(x/abs(x)) if x else 0\n",
    "def td(h,t):\n",
    "    if max(abs(h[0]-t[0]),abs(h[1]-t[1]))==2:\n",
    "        return (sign(h[0]-t[0]),sign(h[1]-t[1]))\n",
    "    else: return (0,0)\n",
    "\n",
    "S=[m.split(\" \") for m in get_data(day=9,year=2022).split(\"\\n\")]\n",
    "L,V,V2=[ (0,0) for _ in range(10) ],set([(0,0)]),set([(0,0)])\n",
    "\n",
    "for m in S:\n",
    "    di, s = m\n",
    "    for i in range(int(s)):\n",
    "        L[0] = tadd(L[0],d[di])\n",
    "        for j in range(1,10):\n",
    "            L[j] = tadd(L[j],td(L[j-1],L[j]))\n",
    "        V.add(L[1])\n",
    "        V2.add(L[-1])\n",
    "print(\"part1:\", len(V), \"part2:\", len(V2))\n",
    "\n",
    "puzzle.answer_a = len(V)\n",
    "puzzle.answer_b = len(V2)"
   ]
  },
  {
   "cell_type": "code",
   "execution_count": 705,
   "metadata": {},
   "outputs": [
    {
     "name": "stdout",
     "output_type": "stream",
     "text": [
      "-12 -93 274 141\n",
      "                                                                                                                                                                     o                                                                                                                         \n",
      "                                                                                                                                                                     o                                                                                                                         \n",
      "                                                                                                                                                                     o                                                                                                                         \n",
      "                                                                                                                  o                                o                 o          o                                                                                                              \n",
      "                                                                                                                  o                                o                 o          o                                                                                                              \n",
      "                                                                                                       o          o                                ooooooooooo       o          o                                                                                                              \n",
      "                                                                                                       o          o                                o          o      o       o  o                                                                                                              \n",
      "                                                                                                       o          o                                o   #      o    ooooooooooo  o                                                                                                              \n",
      "                                                                                                       o      ##  o                                o  # #     o    oo##oooo  o  o                                                                                                              \n",
      "                                                                                                       o     #  # o                                o #   #    o    o ##      o  o                                                                                                              \n",
      "                                                                                                       o    #    #o                             o  o#     ############o######oooo                                                                                                              \n",
      "                                                                                                       o   #      #                             o  #      o   o    #o##o#oooo#o #                                                                                                              \n",
      "                                                                                                       o  #       o###oooooooo             oooooooo########   o   #o ##  # o  ###                                                                                                              \n",
      "                                                                                                       ###oooooooo    #       o           o     o #  oooooo#  o  # o#  # o#o    #                                                                                                              \n",
      "                                                                                                       #               #      o           o     o         o #ooo#oo#oo#  o #    #                                                                                                              \n",
      "                                                                                                       #                #     o            ooooo          o o#o#  #o #   o o#ooo#                                                                                                              \n",
      "                                                                                                  ooooo#                 #    o                           o o #  # o#      oo#  #                                                                                                              \n",
      "                                                                                              ooooo   #                   #   o                           o o#o##  #       oo#  #                                                                                                              \n",
      "                                                                                                   o #                     #  o                           o # o    #       oo# #                                                                                                               \n",
      "                                                                                                   o#                       # o     o                     o # o    #       oo##                                                                                                                \n",
      "                                                                                                   #                         #o     o                     o o#o    #oooooo oo#o                                                                                                                \n",
      "                                                                                                  #o                          #     oo                     ooo#    #      oooo                                                                                                                 \n",
      "                                                                                                 # o                           #oooooo                      o#     #      ooooooo                                                                                                              \n",
      "                                                                                                #oo                             #####oooooooo               o#      #     oooo                                                                                                                 \n",
      "                                                                                                o#                                  o#       o        o     o#       #    oooo                                                                                                                 \n",
      "                                                                                                o #                                  o#      o        o     o#        #   ooooooooooo                                                                                                          \n",
      "                                                                                                o  #                                   #     o        o     o#   o     #  oooooooooooo                                                                                                         \n",
      "                                                                           ooooooo              o  #                                    #    o        o   oo#ooooo     #  ooo##   o  o                                                                                                         \n",
      "                                                                          #       o             o  #                                     #   o        o    # oo  o    # ##oo####ooo  o                                                                                                         \n",
      "                                                                         #o#      o             o  #                                      #  o        o   #o oo  o   # #  ###  #  o  o                                                                                                         \n",
      "                                                                        # o #     o             o #                                        # o        ooo#o oooooooo#o#ooo##      o  o                                                                                                         \n",
      "                                                                       #  o  #    o             o#                                          #oo  ######  o#oooooooo#o#ooo# o      o  o                                                                                                         \n",
      "                                                                      #   o   #   o             #                                           o####oooooo##  # ooo o#o#ooo#oo       o                                                                                                            \n",
      "                                                    ooooooooooo      #ooooo    #  o   o ######oo#ooooo                                     oooo       # ## o#ooo # #  o#oo                                                                                                                     \n",
      "                                                   o           o    #    o      # o  o #   o  # # oooooo                                  o o oo     #o  ##o #oo###   # oo                                                                                                                     \n",
      "                                                   ooooo       o   #     o       #o  o#o   o   ##o   oo o                                 o o o oooo#ooooo##oo##o#o#o#o oo                                                                                                                     \n",
      "                                                   o    o#     o  #      o     ooo#oo#oooooo    #o   oo o                                 ooo o   o#   o   #  ## ## ##o oo                                                                                                                     \n",
      "                                                   o    # #    o #       o         ##oooooooo   ##   oo o                                o oo oooo#     o  ####o##o # o oo                                                                                                                     \n",
      "                                                   o   #o########oooooooo         oo       o    #o#  oo o                               o ooo#o   #      o#o###o##o#  o oo                                                                                                                     \n",
      "                                                   o    #  #                ooooooooooooooo     #o # oo o                               oo o##oo  #  oooo#o#o###o##ooooo o                                                                                                                     \n",
      "                                                   o    o   #              o      oo            # oo##oooooo                            oo o###o  o# ooo#o#o###oo#o#oooooo                                                                                                                     \n",
      "                                                   o    o    #             o      oo    oooooooo#oo  ## o   o                           oo #####ooo #  # # ##o#o#o  # ooo                                                                                                                      \n",
      "                                                   o    o     #            o     #oo   o       #     #####  oooooo                      oo#o#o### o o##o#o##oo##oo   #o                                                                                                                        \n",
      "                                                   o    o      #       o   o    # #o   o      #       # #o#oo     o                     oo#o## ###o o o# o##oo#oo     #  o                                                                                                                     \n",
      "                                                        o       #ooooo o   o   #   #   o     # oo      #o#o#o     o                     oo#o#oooo#oooo#o ##o##o#o      #oo                                                                                                                     \n",
      "                                                         oooooooo###  ooooooooo #  #   o    # o  o      #o#o#ooo  o                     o# o#o#o o# o #o#oo##ooo#o      #o                                                                                                                     \n",
      "                                                                o o # #o   ooooo#oo#oooo   #  o  o      o#  o#  o o                     #o  ##o# oo#o#o#oo ##oooo#       #                                                                                                                     \n",
      "                                                               oo o  # o   o   #   #   o  #   o  o      o## o # o o                  ooo#o  #o#o#oo #o# oo#  #oo#o       o#                                                                                                                    \n",
      "                                                               oo o #  o   o    # #    o   ## o  o      o ##o#  o o                 o   #o #oo#oo#o#o#ooo#   #o#oo       o #                                                                                                                   \n",
      "                                                               oo o#   o    ooooo#oooo o   #  o  o      o  ##   o o                 o   #ooooo#ooo###o#o#ooo#o#ooo       o  #                                                                                                                  \n",
      "                                                               oo #    o        o # oooo  #   o  o      o   #   o o                 o   #o oo #oo#o# oo#ooo#o#o oo       o #                                                                                                                   \n",
      "                                                               oo#o    o        o  #   o #    o  o      o   o#  o o                 oooo#ooooo# ###  o#o#ooo#ooo o       o#                                                                                                                    \n",
      "                                                               o# o    o        o  o#####oooooooo       oooo  # o o                 o   # ooo ## ##  #oo # #o#   o#      #                                                                                                                     \n",
      "                                                               #o  oooo         o  o # ooooooo          o      #oo               oooooooo######### ##ooo  #oo #  # #oooo#oooooooo                                                                                                              \n",
      "                                                              #o                o  o  #o                ooooooo#ooo                       ooo###oo###ooo   oo  ##o  #  #                                                                                                                       \n",
      "                                                     oooooooo#ooo              ooooo   #   ooo       o   ooooo#oo                         oo#o#oooooo#ooooooo     ooo#o#oooooo                                                          ooooooooooooooo                                        \n",
      "                                                         o  #                      o   #  o   o      o      ##  oo                       oooo#oooooooo#    o o        ##      o                                                        o       #       o                                       \n",
      "                                                         o #                    ooooooo#  o   o      o     #o   oo                       ooo# o        ### o  oooo     #      o                                                        o      # #      o                                       \n",
      "                                                         o #                   o       #  o   o      ooooo#ooooooo                     oooooooooo         #o      o    #      o                                                        o     #   #     o                                       \n",
      "                                                         o  #                  o       #  o   o##    o   #      oo                       o oooooo          #      o   #o#     o                                                        o    #    #    o                                        \n",
      "                                                         o   #                  oooooooo#######  #   o  #       oo                       o oo o            o##########o#oooooo                                                         o   #    # o   o                                        \n",
      "                                                          oo#o                            o   o   #  o #  ooooooo                        o oo o                       #o                                                               o  #    #  o   o                                        \n",
      "                                                           #  o                           o  oooooo#o##         o                        o  o o                      # o                                                               o #    #   o   o                                        \n",
      "                                                          #   o                           o o o     #o                                   o  o o                     #  o                                                     oooooooo#########oooooooo                                         \n",
      "                                                           #  o                             o o      o                                    oooo                       # o                                                    o       #  o   #      o                                            \n",
      "                                                            # o                              o       o                                                                #o                                                    o      #   o    #     o                                            \n",
      "                                                             #o                                      o                                                                 #                                                    o     #    o     #    o                                            \n",
      "                                                              #       o                                                                                         oooooooo#o                                                  o    #     o      #   o                                            \n",
      "                                                              o#      o                                                                                                  #o                                                 o    #     o       #  #                                            \n",
      "                                                               o#oooooo                                                                                                   #                                                 o     #     oooooooo###                                            \n",
      "                                                                 #    o                                                                                                   #                                                 o      #              #                                            \n",
      "                                     ooo                          #   o                                                                                                   #                                                 o       #            #o                                            \n",
      "                                    o   o                          # o                                                                                                    #                                                  ooooooo#oooooooo   # o                                            \n",
      "                                ooooooooo                           #o                                                                                                    #                                                         #          #  o                                            \n",
      "                               o    o   o                            #                                                                                                  o#o                                                         # oooooooo#ooo                                             \n",
      "                               o    o   o                            o#                                                                                                 # o                                                         #o       #                                                 \n",
      "                            oooooooo    o                            o#                                                                                                #ooooo     ooooooo                                           #o      #                                                  \n",
      "                             o o   ##   o                            o#                                                                                               # o o  o       o   o                                         #oo     #                                                   \n",
      "                             o o o##ooooo                            o#                                                                                              #  o o  o       o   o                                        # oo    #                                                    \n",
      "                             o o ##  ooooooo                         o#                                                                                               # o o  o       o   o                                       #  oo   #                                                     \n",
      "                          ooo  o##o      oo                          #                                                                                                 #o o  oo      ooooooooo#######o                          #   oo  #           o                                          \n",
      "                            o  ##oooooooooo                          #oooooo                                                                                           o##ooo o      #  oo   #   o   #                         #    oo #            o                                          \n",
      "                            o #  #o   #o oo                           #oooooooo                                                                                 oooooooo###oooo o   #o# oo  #    o    #                       #     oo#             o                                          \n",
      "                            o#   o#    # oo    o                     #o                                                                                               o ###   o #  # o #oo #     o     #                     #      o#              o                                          \n",
      "                          oo#oooo o#   o#ooo  oo                     #o                                                                                               o ## #  o#o##ooooo#o#ooo   ooooooo#oooooooo           ######ooo#oooo          o                                          \n",
      "                         o #o    o  #oo# #o   oo           o        # o                                                                                               o#o#oo#o#oooooo # o#  o###oooooooo #       o    ooooo#oooooo#o #    o         ooooooooo                                  \n",
      "                         o #ooooo    ##o o#   oo           o       #  o                                                                                       oooooooo######o#o  oooo# ## oo# o #  o    o #      o   o    #o  ooooo#o#    o         o       o                                  \n",
      "                        #####  oooooo# o oo#  oo    ooooo  o      #   o                                                                                                ooo#o#o#      # ##  #  o  # o    o  #     o   o   # o o      ##    o         o##     o        ooooooo                   \n",
      "              ooooooooo#o o# ########ooooooo#o o#  o       o     #    o                                                                                                  o # #o#     ## o##o  o   #o    o   # o  o   o  #  o o      ##    o         #  #    o       o       o                  \n",
      "             o  ##    #  o #  o    #   o  o o# # # o  ##   o    #     o                                                                                                  ooo######ooo#ooo##oooooo#o##oooooooo###########   o o     #  #   o        #oooo#ooo        o       o                  \n",
      "             o #  ####    oo#o    #    o    o #o  #oo#o #  o   #      o                                                                                                  o   #o#o##o##oo# o#oooo#o#oo#  oo  # oooooo#o#ooooooo    #    #  o       # o  o #          o       o                  \n",
      "             o#            o #   #     o    o  o   ##  o # o  #       o                                                                                                  o   #o # ## # #  oo# o ##oooo#o o #  o  o # #     o o   #      #oooooooo#oooooooo#ooooo########    o                  \n",
      "           o #             oo # #      oooooooo    o   o  ####oooooooo                                                                                                   o   #ooo##o###oooo#############ooooooooo #       oo o  #        #o       #   ooo#     # ooooo#ooooo                   \n",
      "    o      o#oo           ooooo#       o    o      o    ooo                                                                                                              oooo#ooo   ###   ##  o##  o    #o    o o #       oo o #         #o o      #  oo#     # o   o#                         \n",
      "    o     o#o#o      # o oooooooooooooo      oooooo                                                                                                                      o   #o o  ##o # ##o  # #oo#ooooooooooo o  #      o  o #        # o o    oo#ooo#o#####  o   #                          \n",
      "    oooooo#ooo#    ## ##o##ooooo oo                                                                                                                                         #oo o ## o  ##oo ####  ##ooo ooooooooooo#ooooooo o  #      #  o o   o #   #o#       o  #                           \n",
      " oooooooo#  ooo#oo#  ooo#oo#oooooo o    o       ooo                                                                                                                       ooo#ooo##ooooo#ooo#ooo#oo#####oooooo       #    o  o   #    #   o o   o#  ##o#o       o #                            \n",
      "o       #   oo o##oooooooo#o  ooooo     ooo    oo  ooooo                                                                                                                 o   o# ##   o #  o   o ####  # #  o          #   o  o    #  #    o o   o ## ##oo       o#                             \n",
      "o      #    o    o  ooooooo#ooooooo     ooooooooo oo   o                                                                                                                 o   oo##    o#o  o   o ####  o##  o         # #  o  o     ##     o ooo########oooo     #                              \n",
      "o     #     o #  o ooooooooo#oo o   ooooooo    oo ooooo                                                                                                                  o   o###    # o  o     #  #ooo##ooooooo    #     o  o            o o # o  ###o#o      #o                              \n",
      "o     #     o# #  o  o ooo oo#   ooo ooo oo    ooooo                                                                                                                     o   ## o#oo#oooooo    ##  ##o#  # o    o  #      o  o        ooooooooo#ooo####o#  ####oooooooo                        \n",
      "o      #oooo#   #    o ooo oo #  o oo     o     oooo                                                                                                               oooooooo###oooo##o   oooooo#o#  # ##o  #o    o #       o   oooooooooo##  o   #o  o##o# #o # #o      o                       \n",
      "o      o#  #     #   o o ooooo #ooooo     o  #  oooo                                                                                                                     o  #o o          o  #  #  # ##oooo#ooo#########ooo          o #  # o   o#  o #### o#   #      o                       \n",
      " oooooo  ##       #  o  o o oo o# oooo #   ooo#o#o oo#oo                                                                                                                 o #o#oooooo#oooooo #   #  ## o#  oo#   o       # oo         o#   o#oooooo#oo o### # o  o#     o                       \n",
      "                   #o      ooo o #oooo#        #ooo #o o                                                                                                                 o#   #o   # #    o#   #o  ## o #  oo#  o        # o      oo #      #   ooo#ooo####o o  o #    o                       \n",
      "                   o#          ooo#o #       o#o#o #o oo                                                                                                                 o #   #  #   #  o#ooo#oo##o#oooo#o o # o         #o     o  #o       #  oooo#o# o# # o  o  #   o                       \n",
      "                   o #        ooooo##oo      #oo# # o oo                                                                                                                 o  #  # #     #o#o  #  # ## ooooo#o   #o          #     o #oo        # oo  o#  oooo####oooo#ooo                       \n",
      "                   o #       oooo o##oo     # oo## #o oo                                                                                                                 o   # ##       # o #  #o#  o o    #    #          o#    o# oo     o   # o  #o#ooooooooo#    # o                       \n",
      "              ooooo  #     ooooooo#oo#o o o#ooo##ooo#ooo                                                                                                                 o    ##       #o#o#  # #   o o     #   o#         o #   #  oo     o    #o # o #oo o o  ##  #  o                       \n",
      "             o    o  #    o o  oooo#oooo o# oo##ooo  #oo                                                                                                                 o     #      # o #  # #o   o  oooooo#o o #        o  # #o  o#     o     ##ooooo#oo  o #o###   o                       \n",
      "              ooooo #     o oooooo#oo ooo#ooo##oooo   #                                                                                                                  o     o#    #  o#o## # o   o         #oo  #      ooooo#oooo#o#    o         o  o#   o# o ##   o                       \n",
      "                  o#      ooo  o## ooooo#ooo###ooooo  #o                                                                                                                 o     o #  #   # o###  o   o          #o   #      ooo#o#oo#oo #   o         o   o#  #  o   # oo                       \n",
      "                  #      oo  o ### oooo# oo##oo#ooooo#ooo                                                                                                                 oooooooo##ooo#oo#ooooo    o          o#    #     o #o  ##  ooo#ooo         o   o ##o   oooo#oo                       \n",
      "                 #o      o  oo## o#o#o# oo##ooo #ooo  #                                                                                                                        o      # o# ooooooooo           oo#    ##   o# oo o       # o         o   o   o        #o                       \n",
      "                 #o       ooooooooo#o#ooo##oooooo#o  #                                                                                                                         o      # #                      o o#ooooo#oo#oooo o        #o         o       ooooooooo#                        \n",
      "                  #oooooooooo   o#oo#ooo##o  oo o # #                                                                                                                          o     #o #                      o   #     ## oooooo         #          ooooooo         #                        \n",
      "                   #       ooooo# o#ooo##oooo o o o#            o                                                                                                              o    # o #                      o    #    ##   oo o         #                          #                        \n",
      "                    #      o  o#o##ooo##oooo  o o #o#o  #   ooooo                                                                                                                  #  o#o                      o     #  #  #  oo           #                          #                        \n",
      "                     #   oooooo# ######oooo##oooo#   #o# # o    o                                                                                                                 #   # o                      o      ##    # oo           #                         #o                        \n",
      "                      #   oooooo###o##oooo#oo#o #     #   #o    o                                                                                                                #   #o o                      o             #oo           o#                       # o                        \n",
      "                       #  oo oooo#o##o#oo#oooo##oooo  o    #oooo                                                                                                                #   # o o                       oooooooooooooo#o           o #                     #  o                        \n",
      "                        # oo  o o ##ooo##ooo oo o   ooo    o#                                                                                                                  #   #  o o                                      #           o  #                   #   o                        \n",
      "                         #oo   oo##ooooooo#ooooo oooooo    oo#oooo                                                                                                         ooo#ooo#ooooo                                 ooooooo#ooo        ooo#oooooooo         #    o                        \n",
      "                          #o  o ##ooooo  ##  oo        oooo   #   o                                                                                                       o  #ooo#oooo                                           #  o           # o              #    o                        \n",
      "                           # ooo##o oooo##   o                 #  o                                                                                                       o  #  #                                                 # o            #o              #ooooo                        \n",
      "                           o# o#  # o ####ooooooo               # o                                                                                                       o  # #                                                   #o             #       o      #    o                        \n",
      "                            o##   o#o# oo## oo   oo o            #o                                                                                                        oo##                                                     #             o#      o      #                             \n",
      "                            o##   o##o o# ##oo   o oo             #oo                                                                                                        #                                                     o#             o #     oo     #                             \n",
      "                            # o#  # #o #o#  #oooooooo              # o                                                                                                       o                                                     #o             o  #    oo     #                             \n",
      "                            #ooo##ooo##o#oooo#oooo oo               #o                                                                                                       o                                                     #o             o #     oo     #                             \n",
      "                           oo##o##ooooo#oooo  #  o oo                #o                                                                                                      o                                                     #o             o #     oo    #o                             \n",
      "                           oo o#  #o o#oo  o   # o oo                 #                                                                                                      o                                                     #o             o  #    oo   # o                             \n",
      "                           oo o    #o# oo  o    #o oo                 o#                                                                                                     o                                                     #o             o   #   oo  #  o                             \n",
      "                           oo o    o#oooooo    oo#oo                  o #                                                                                                    o                                                     #o             o    #  #o #   o                             \n",
      "                           o ooooooo    o     oooo#o#                oo#ooo                                                                                                  o                                                     #o             o     ###o#    o                             \n",
      "                           o  o    o    o     o  # ##                 #o                                                                                                     o                                                     o#             o       #o #   o                             \n",
      "                           o  o    o    o     o   #o#             o  #  o                                                                                                                                                          o #            o       #ooo#ooo                             \n",
      "                            ooo    o    o     o     #ooo          o #   o                                                                                                                                                          o  #            ooooooo#    # oo                            \n",
      "                                    oooo      o     #   o     ooooo #   o                                                                                                                                                          o   #                ooo#oooo#oooooo                        \n",
      "                                              o     #   o    o  o o #   o          o                                                                                                                                               o    #                   # oo#oooooooo                      \n",
      "                                              o      #  o    o  oooo#   o   o      o                                                                                                                                               o     #                   # #  o                            \n",
      "                                                      # ooooooooooo# #oooooo o o   o                                                                                                                                               o     #                   o#   o                            \n",
      "                                                       #o    o  oo#o#o#oo oooo#o   o                                                                                                                                               o     #                   # #  o                            \n",
      "                                                        #    o  ooo#o  #o    # #oooooo                                                                                                                                              ooooo#                   #  # o                            \n",
      "                                                         #   o  ooooo   #   #o  #ooo o                                                                                                                                                   #                   #   #o                            \n",
      "                                                          #ooooo oooo   o# # o  #  o o                                                                                                                                                  #o                  #o    #                            \n",
      "                                                           # ooooooooo  o #   o#ooo  o                                                                                                                                                 # o                 # o    #                            \n",
      "                                                            #ooooo#ooooo      #  oooo                                                                                                                                                 #  o                #  o    #                            \n",
      "                                                             #     #oo  o    #  o                                                                                                                                                    #   o               #   o    #                            \n",
      "                                                             #      #o  o   #   o                                                                                                                                                   #    o              #    o    #                            \n",
      "                                                             #       #  o  #    o                                                                                                                                                  #     o      o      #     o   #o                            \n",
      "                                                             #       ## o #     o                                                                                                                                                 #      o     o o    # oooooooo#o                             \n",
      "                                                             #      #o #o#      o                                                                                                                                                #      oo     o o   #       o #o                              \n",
      "                                                            #o     # o  #       o                                                                                                                                        ooooooo#oooooooo     oooooo#oooooooo # o                              \n",
      "                                                             #    #ooooooooooooo                                                                                                                                        o      #      oooooooo#oooooo#o      #  o                              \n",
      "                                                             #   oo#oooooo                                                                                                                                              o   o #         o    #   o    #       # o                              \n",
      "                                                           oo#    #o    oo                                                                                                                                              o   o#          o   #    o     #       #o                              \n",
      "                                                          o  #ooo#oooooooo                                                                                                                                              o   #           o  #     o      #      #o                              \n",
      "                                                          o  #o #  o oooooo                                                                                                                                             o  #o           o #      o       #    # o                              \n",
      "                                                           o # #oooooo                                                                                                                                                  o # o           o#        oooooooo#oo#ooo                              \n",
      "                                                        ooooo##oooo                                                                                                                                                     o#  o           #                  ##   o                              \n",
      "                                                           o #                                                                                                              oooooooo##oooo                         ooooo#oo###          ##                      o                              \n",
      "                                                    oooooooo#                                                                                                              o       #  #   o             ooooooo        #o   #o#         # #                     o                              \n",
      "                                                   o  o    #                                                                                                               o      #    #  o            o      o       # o   o# #        ##                      o                              \n",
      "                                                   o  o    o                                                                                                               o     #      # o            o      o      #  o   oo# #       #                       o                              \n",
      "                                                    ooooooo                                                                                                                o    #        #o            o      o     #   o   oo # #     ##                       o                              \n",
      "                                                                                                                                                                           o   #          #            o      o     #   o   oo  # #   # #                                                      \n",
      "                                                                                                                                                                           o  #           o#           o   #  o     #ooo    oo   # # #  #                                                      \n",
      "                                                                                                                                                                           o #            o #          o  # # o     #       oo    # #   #                                                      \n",
      "                                                                                                                                                                           o#            oooo#         o #   #o     # oooooooo##oo#ooooo#oooooooooo                                            \n",
      "                                                                                                                                                                           #                 o#        o#     #    #o      o   ###  o   #   o      o                                           \n",
      "                                                                                                                                                                          #o                 o #       o #    o#  # o      o    ##  o   #   o      o                                           \n",
      "                                                                                                                                                                         # o                 o  #      o  #   o ##  o      o   # ## o   #   o      o                                           \n",
      "                                                                                                                                                                        #  o                 o   #     o   #  o ##  o      o  #   ##o   #   o      o                                           \n",
      "                                                                                                                                                                       #   o                 o    #    o    # o#  # o      o   #   ## ooo#oooo##oooooooo                                       \n",
      "                                                                                                                                                                      #    o                 o     #   o     ##   # o      o    #   ##  o # o# ##o o    o                                      \n",
      "                                                                                                                                                                     #     o                 o      #  o      o  #  o      o     #  #o# o  ## #  #oooooooooooooo                               \n",
      "                                                                                                                                                                     #     o                 o       # o      o #   o      o      # #o #o  ##  # o#o   ##       o                              \n",
      "                                                                                                                                                                     #     o                  oooooooo##########ooooooooo  o       ##o  # #  #oo#oo#oo#oo#      o                              \n",
      "                                                                                                                                                                     #ooooo                                                 oooooooo##ooo#    # o#o######o#oooooo                              \n",
      "                                                                                                                                                                     #                                                              o## #o#    # o#o#   o# #    oo                             \n",
      "                                                                                                                                                                     #                                                              oo##oo #    ## #    oo# #   oo     oo##############oooooooo\n",
      "                                                                                                                                                                     o#oooooooooooooo                                               oo###ooo#ooo########## # #  oo    o #                      \n",
      "                                                                                                                                                                     o #    oo                                                      o#  ##   # # # o    oo# #o#oooo   o#                       \n",
      "                                                                                                                                                                     o  #   oo#                                                     o#  o########ooooooooo # # #oo o  #                        \n",
      "                                                                                                                                                                     o   #  o#                                                      o#  o#     #oooooooo o o# # #o o #o                        \n",
      "                                                                                                                                                                     o    # #o                                                      o#  #o     #  oo     o o # ##o o# o                        \n",
      "                                                                                                                                                        o            o     #oo                 o                                   o #o#oooooooo#ooo     o o  ###o #  o                        \n",
      "                                                                                                                                                        o            o    # oo                 o                                   o ##  o  o  o #       o o ## o##o  o                        \n",
      "                                                                                                                                                        o            o   #  oo                 o                                   o ##############ooooooooo##  oo o  o                        \n",
      "                                                                                                                                                        o     #       oo#ooooo                 oooooo                              o##      o  o   #     o ##   o oooooo                       \n",
      "                                                                                                                                                        o    # #       #    oo                 o     o                     oooooooo##oooooooo  o    #     ##ooooooo   o                        \n",
      "                                                                                                                                                        o   #   #     #     oo                 o     o                    o oooo####oooooooo   o     #   ##o    o     o                        \n",
      "                                                                                                                                                        ooo#ooooo#####oooooooo                 o     o                    oo  o# # o           o      # ## o    o     o                        \n",
      "                                                                                                                                                        o #                 o                  o#    o                  oooooo#o##oooooooo     o       ##  o    o                              \n",
      "                                                                                                                                                        o#                                     o #   o                    oo #o#  #             oooooooooooooooo                               \n",
      "                                                                                                                                                        o#                                     o  #ooooooo              o oo# #   #                        o                                   \n",
      "                                                                                                                                                        o #                                    o  o# o    o  oooooooo#ooooo#o#o  #                         o                                   \n",
      "                                                                                                                                                        o  #                                   o  o ###########ooooo#o# o #o# o #       o                  o                                   \n",
      "                                                                                                                                                        o   #                                  o  o  #      o  #   #   #o#o#  o#       o o                 o                                   \n",
      "                                                                                                                                                        o    #                                 o  o  #      o   # #    o# #o  #        o o                                                     \n",
      "                                                                                                                                                        o     #################oooooooo        o  o  #      o    #     #o#oo##o        o o                                                     \n",
      "                                                                                                                                                        o            o         #       o        oo   #      o   # #   #o# ####o        o o                                                     \n",
      "                                                                                                                                                        o            o          #      o             #   oooooo#o#######oo##  #        o o                                                     \n",
      "                                                                                                                                                         oooooooooooo            #     o          ooo#ooooooo # #   #  oo#ooo###oooooooo o                                                     \n",
      "                                                                                                                                                                                  #    o         o   #  o   o# #   # # o#  o# o##      # o                                                     \n",
      "                                                                                                                                                                                   #   o         o  #o  ###############o#oo#oooo#########o                                                     \n",
      "                                                                                                                                                                                    #  o         o # o #o  oo#o #      #o##   o  #   # o #                                                     \n",
      "                                                                                                                                                                                     # o         o#  o# o  oo o#       oo##   o   # #  o o                                                     \n",
      "                                                                                                                                                                                      #o         #   #  o  oo #        o# #        #   o o                                                     \n",
      "                                                                                                                                                                                       #        #o  #o  o ooo#o        #o #            o o                                                     \n",
      "                                                                                                                                                                                       o#      # o # o   o o #o      o#ooo#            o o                                                     \n",
      "                                                                                                                                                                                       o #    #  o # o     o  #      # oo #            o o                                                     \n",
      "                                                                                                                                                                                       o  #  #   ooo#      o  o#    #  oo #            o o                                                     \n",
      "                                                                                                                                                                                       o   ##    o   #     o  # #  #   oo #            o o                                                     \n",
      "                                                                                                                                                                                       o         o    #    o ##  ##    oo #              o                                                     \n",
      "                                                                                                                                                                                        oooooooooo     #   o#o#ooo      o #                                                                    \n",
      "                                                                                                                                                                                                 o      #  #  #         o #                                                                    \n",
      "                                                                                                                                                                                                 o       ## oo#ooooooooo  #                                                                    \n",
      "                                                                                                                                                                                                  oooooooooooo#           #                                                                    \n",
      "                                                                                                                                                                                                              #           #                                                                    \n",
      "                                                                                                                                                                                                              #          #o                                                                    \n",
      "                                                                                                                                                                                                              #         # o                                                                    \n",
      "                                                                                                                                                                                                              o#       #  o                                                                    \n",
      "                                                                                                                                                                                                               o#oooo #   o                                                                    \n",
      "                                                                                                                                                                                                                 #   #    o                                                                    \n",
      "                                                                                                                                                                                                                  # #o    o                                                                    \n",
      "                                                                                                                                                                                                                   # o    o                                                                    \n",
      "                                                                                                                                                                                                                    #o    o                                                                    \n",
      "                                                                                                                                                                                                            ooooooooo#ooooooo                                                                  \n",
      "                                                                                                                                                                                                                     o#      o                                                                 \n",
      "                                                                                                                                                                                                                     o       o                                                                 \n",
      "                                                                                                                                                                                                                     o       o                                                                 \n",
      "                                                                                                                                                                                                                     o       o                                                                 \n"
     ]
    },
    {
     "name": "stdout",
     "output_type": "stream",
     "text": [
      "                                                                                                                                                                                                                      ooooooo                                                                  \n"
     ]
    }
   ],
   "source": [
    "mx,my = map(min,zip(*V))\n",
    "Mx,My = map(max,zip(*V))\n",
    "print(mx,my,Mx,My)\n",
    "print(\"\\n\".join(\"\".join(\"#\" if (x,y) in V2 else \"o\" if (x,y) in V else\" \" for x in range(mx,Mx+1)) for y in range(my,My+1)))\n",
    "#list(map(max,zip(*V)))\n",
    "#list(zip(*V))"
   ]
  },
  {
   "cell_type": "code",
   "execution_count": 657,
   "metadata": {},
   "outputs": [
    {
     "name": "stdout",
     "output_type": "stream",
     "text": [
      "-10 -5\n",
      "-9 -4\n",
      "-8 -4\n",
      "-7 -4\n",
      "-6 -3\n",
      "-5 -2\n",
      "-4 -2\n",
      "-3 -2\n",
      "-2 -1\n",
      "-1 0\n",
      "0 0\n",
      "1 0\n",
      "2 1\n",
      "3 2\n",
      "4 2\n",
      "5 2\n",
      "6 3\n",
      "7 4\n",
      "8 4\n",
      "9 4\n"
     ]
    }
   ],
   "source": [
    "import math\n",
    "round((-2+1)//2)\n",
    "for i in range(-10,10):\n",
    "    print(i,round(i/2))"
   ]
  }
 ],
 "metadata": {
  "kernelspec": {
   "display_name": "Python 3",
   "language": "python",
   "name": "python3"
  },
  "language_info": {
   "codemirror_mode": {
    "name": "ipython",
    "version": 3
   },
   "file_extension": ".py",
   "mimetype": "text/x-python",
   "name": "python",
   "nbconvert_exporter": "python",
   "pygments_lexer": "ipython3",
   "version": "3.8.5"
  }
 },
 "nbformat": 4,
 "nbformat_minor": 4
}
