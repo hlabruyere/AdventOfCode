{
 "cells": [
  {
   "cell_type": "code",
   "execution_count": 3,
   "metadata": {},
   "outputs": [
    {
     "name": "stdout",
     "output_type": "stream",
     "text": [
      "part1: 74\n",
      "part2: 1796\n"
     ]
    }
   ],
   "source": [
    "with open('1') as f:\n",
    "    t = [1 if c == \"(\" else -1 for c in f.read()]\n",
    "print(\"part1: \" + str(sum(t)))\n",
    "print(\"part2: \" + str(next(i+1 for i in range(2,len(t)-1) if sum(t[:i]) == -1)))\n"
   ]
  },
  {
   "cell_type": "code",
   "execution_count": 9,
   "metadata": {},
   "outputs": [
    {
     "name": "stdout",
     "output_type": "stream",
     "text": [
      "part1: 1606483 part2: 3842356\n"
     ]
    }
   ],
   "source": [
    "t = [tuple(map(int,line.split('x'))) for line in open(\"2\").read().split('\\n')]\n",
    "\n",
    "def paper(x): return 2*x[0]*x[1] + 2*x[1]*x[2] + 2*x[2]*x[0] + min(x[0]*x[1],x[1]*x[2],x[2]*x[0])\n",
    "def ribbon(x): return x[0]*x[1]*x[2] + 2*min(x[0]+x[1],x[1]+x[2],x[2]+x[0])\n",
    "    \n",
    "print(\"part1: \" + str(sum(map(paper, t))) + \" part2: \" + str(sum(map(ribbon, t))) )\n"
   ]
  },
  {
   "cell_type": "code",
   "execution_count": 16,
   "metadata": {},
   "outputs": [
    {
     "name": "stdout",
     "output_type": "stream",
     "text": [
      "part1: 2081 part2: 2341\n"
     ]
    }
   ],
   "source": [
    "pdic = {'^':(0,1),'v':(0,-1),'<':(-1,0),'>':(1,0)}\n",
    "\n",
    "t = [ pdic[c] for c in open('3').read() ]\n",
    "\n",
    "L1 = {(0,0)}\n",
    "L2 = {(0,0)}\n",
    "\n",
    "def tadd(*t): return tuple(map(sum, zip(*t)))   \n",
    "\n",
    "x = (0,0)\n",
    "l = [(0,0),(0,0)]\n",
    "\n",
    "for i in t:\n",
    "    x = s(x,i)\n",
    "    l[0] = s(l[0],i)\n",
    "    L1.add(x)\n",
    "    L2.add(l[0])\n",
    "    l = l[1:]+l[:1]\n",
    "\n",
    "print(\"part1: \" + str(len(L1)) + \" part2: \" + str(len(L2)) )"
   ]
  },
  {
   "cell_type": "code",
   "execution_count": 17,
   "metadata": {},
   "outputs": [
    {
     "name": "stdout",
     "output_type": "stream",
     "text": [
      "254575\n",
      "1038736\n"
     ]
    }
   ],
   "source": [
    "import hashlib \n",
    "\n",
    "print(next(i for i in range(1000000000) \n",
    "           if hashlib.md5(str.encode(\"bgvyzdsv\"+str(i))).digest().hex()[0:5] == \"00000\"))\n",
    "print(next(i for i in range(1000000000) \n",
    "           if hashlib.md5(str.encode(\"bgvyzdsv\"+str(i))).digest().hex()[0:6] == \"000000\"))"
   ]
  },
  {
   "cell_type": "code",
   "execution_count": 25,
   "metadata": {},
   "outputs": [
    {
     "name": "stdout",
     "output_type": "stream",
     "text": [
      "part1: 236\n",
      "part2: 51\n"
     ]
    }
   ],
   "source": [
    "w = open('5').read().split('\\n')\n",
    "    \n",
    "print(\"part1: \" + str(sum((sum(c in \"aeiou\" for c in x)>2\n",
    "                            and any([x[i] == x[i+1] for i in range(len(x)-1)])\n",
    "                            and not((\"ab\" in x) or (\"cd\" in x) or (\"pq\" in x) or (\"xy\" in x)))\n",
    "                           for x in w)))\n",
    "\n",
    "print(\"part2: \" + str(sum((max((x[i:i+2] in x[i+2:]) for i in range(len(x)-3))\n",
    "                           and max([x[i] == x[i+2] for i in range(len(x)-2)]))\n",
    "                          for x in w)))"
   ]
  },
  {
   "cell_type": "code",
   "execution_count": 9,
   "metadata": {},
   "outputs": [
    {
     "name": "stdout",
     "output_type": "stream",
     "text": [
      "(377891.0, 14110788.0)\n"
     ]
    }
   ],
   "source": [
    "import numpy as np\n",
    "m=np.zeros((1000,1000))\n",
    "m2=np.zeros((1000,1000))\n",
    "cl={'turn on':(1,0,8,1),'turn of':(0,0,9,-1),'toggle ':(1,1,7,2)}\n",
    "bs=0\n",
    "for l in open('6').read().splitlines():\n",
    "    c=cl[l[0:7]]\n",
    "    tl,br=l[c[2]:].split(\" through \")\"\"\n",
    "    l,t=tl.split(\",\");r,b=br.split(\",\");\n",
    "    for i in range(int(l),int(r)+1):\n",
    "        for j in range(int(t),int(b)+1):\n",
    "            m[i,j]=c[0]-c[1]*m[i,j]\n",
    "            m2[i,j]=max(0,m2[i,j]+c[3])\n",
    "    \n",
    "print((m.sum(),m2.sum()))"
   ]
  },
  {
   "cell_type": "code",
   "execution_count": 45,
   "metadata": {},
   "outputs": [
    {
     "name": "stdout",
     "output_type": "stream",
     "text": [
      "14134\n"
     ]
    }
   ],
   "source": [
    "r={'1':1}\n",
    "ur=[]\n",
    "def ar(r,ru):\n",
    "    if not(min([(v in r) or (v.isdigit()) for v in ru[2]])):\n",
    "        return False\n",
    "    a,d,s=(ru[0],ru[1],ru[2][0])\n",
    "    if a=='':r[d]=r[s]\n",
    "    if a=='N':r[d]=2**16-1-r[s]\n",
    "    if a=='L':r[d]=r[s]<<ru[3]\n",
    "    if a=='R':r[d]=r[s]>>ru[3]\n",
    "    if a=='A':r[d]=r[s]&r[ru[2][1]]\n",
    "    if a=='O':r[d]=r[s]|r[ru[2][1]]\n",
    "    return True\n",
    "\n",
    "for l in open('7').read().splitlines():\n",
    "    c,d=l.split(\" -> \")\n",
    "    cl=c.split(\" \")\n",
    "    if len(cl)==1:\n",
    "        if(cl[0].isdigit()):\n",
    "            if d=='b':r[d]=46065\n",
    "            else:r[d]=int(cl[0])\n",
    "        else:ur+=[('',d,[cl[0]])]\n",
    "    if len(cl)==2:ur+=[('N',d,[cl[1]])]\n",
    "    if len(cl)==3:\n",
    "        if cl[1][1]=='S':ur+=[(cl[1][0],d,[cl[0]],int(cl[2]))]\n",
    "        else:ur+=[(cl[1][0],d,[cl[0],cl[2]])]\n",
    "last=0\n",
    "while(len(ur)>0 and len(ur)!=last):\n",
    "    last=len(ur)\n",
    "    for ru in ur:\n",
    "        if ar(r,ru):ur.remove(ru)\n",
    "\n",
    "print(r['a'])\n",
    "\n",
    "            \n",
    "    "
   ]
  },
  {
   "cell_type": "code",
   "execution_count": 5,
   "metadata": {},
   "outputs": [
    {
     "name": "stdout",
     "output_type": "stream",
     "text": [
      "1371\n",
      "2117\n"
     ]
    }
   ],
   "source": [
    "def w(l):\n",
    "    c=1;d=0\n",
    "    while(c+d+1<len(l)):\n",
    "        if l[c+d]=='\\\\':d+=3 if l[c+d+1]=='x' else 1\n",
    "        c+=1\n",
    "    #print((d,l))\n",
    "    return d\n",
    "print(sum(2+w(l) for l in open('8').read().splitlines()))\n",
    "print(sum(2+sum(1 for c in l if c==\"\\\\\" or c==\"\\\"\") for l in open('8').read().splitlines()))\n",
    "    "
   ]
  },
  {
   "cell_type": "code",
   "execution_count": 21,
   "metadata": {},
   "outputs": [
    {
     "name": "stdout",
     "output_type": "stream",
     "text": [
      "(251, ('Norrath', 'Faerun', 'Straylight', 'Tristram', 'AlphaCentauri', 'Snowdin', 'Arbre', 'Tambi'))\n",
      "(898, ('Tristram', 'Faerun', 'Arbre', 'Straylight', 'AlphaCentauri', 'Norrath', 'Tambi', 'Snowdin'))\n"
     ]
    }
   ],
   "source": [
    "import itertools\n",
    "di,m={},0\n",
    "i=['Tristram','AlphaCentauri','Snowdin','Tambi','Faerun','Norrath','Straylight','Arbre']\n",
    "for l in open('9').read().splitlines():\n",
    "    t,d=l.split(\" = \")\n",
    "    di[t]=int(d)\n",
    "    so,de=t.split(\" to \")\n",
    "    di[de+\" to \"+so]=int(d)\n",
    "print(min((sum(di[c[j]+\" to \"+c[j+1]] for j in range(len(c)-1)),c) for c in itertools.permutations(i, len(i))))\n",
    "print(max((sum(di[c[j]+\" to \"+c[j+1]] for j in range(len(c)-1)),c) for c in itertools.permutations(i, len(i))))"
   ]
  },
  {
   "cell_type": "code",
   "execution_count": 28,
   "metadata": {},
   "outputs": [
    {
     "name": "stdout",
     "output_type": "stream",
     "text": [
      "4666278\n"
     ]
    }
   ],
   "source": [
    "i=\"3113322113\"\n",
    "def it(s):\n",
    "    c,u,o=s[0],1,\"\"\n",
    "    for i in range(1,len(s)):\n",
    "        if s[i]==c:u+=1\n",
    "        else:o+=str(u)+str(c);c=s[i];u=1\n",
    "    o+=str(u)+str(c)\n",
    "    return(o)\n",
    "for x in range(50):i=it(i)\n",
    "print(len(i))"
   ]
  },
  {
   "cell_type": "code",
   "execution_count": 53,
   "metadata": {},
   "outputs": [
    {
     "name": "stdout",
     "output_type": "stream",
     "text": [
      "hepxxyzz\n",
      "heqaabcc\n"
     ]
    }
   ],
   "source": [
    "def valid(p):\n",
    "    r=max((ord(p[i])+1==ord(p[i+1]))and(ord(p[i+1])+1==ord(p[i+2])) for i in range(len(p)-2))\n",
    "    r=r and not(max(i in \"iol\" for i in p))\n",
    "    p = [i for i in range(len(p)-1) if p[i]==p[i+1]]\n",
    "    if len(p):r = r and (max(p)-min(p))>1\n",
    "    else: r=False\n",
    "    return r\n",
    "def next(p):\n",
    "    p=[c for c in p]\n",
    "    c=len(p)-1\n",
    "    while(p[c]=='z')and(c>=0):p[c]='a';c-=1\n",
    "    p[c]=chr(ord(p[c])+1)\n",
    "    return(\"\".join(p))\n",
    "p=next(\"hepxcrrq\")\n",
    "while(not(valid(p))):p=next(p)\n",
    "print(p)\n",
    "p=next(p)\n",
    "while(not(valid(p))):p=next(p)\n",
    "print(p)\n",
    "        \n"
   ]
  },
  {
   "cell_type": "code",
   "execution_count": 20,
   "metadata": {},
   "outputs": [
    {
     "name": "stdout",
     "output_type": "stream",
     "text": [
      "(87842, 42141, 0)\n"
     ]
    }
   ],
   "source": [
    "import sys\n",
    "sys.setrecursionlimit(10**6) \n",
    "t = open('12').read()\n",
    "#print(t)\n",
    "r=0\n",
    "def sumjson(t,o):\n",
    "    s,i,r,re=1,0,0,0\n",
    "    while o<len(t):\n",
    "        if t[o]==\"-\":s=-1\n",
    "        elif t[o].isdigit():i=10*i+int(t[o])\n",
    "        elif t[o]==\"{\": ro,o,red=sumjson(t,o+1);r+=(1-red)*ro\n",
    "        elif t[o]==\"[\": ro,o,red=sumjson(t,o+1);r+=ro\n",
    "        elif t[o]==\"]\": return r+s*i,o,re\n",
    "        elif t[o]==\"}\": return r+s*i,o,re\n",
    "        else:\n",
    "            if t[o:o+3]=='red':re=True\n",
    "            r+=s*i;s,i=1,0\n",
    "        o+=1\n",
    "    return(r+s*i,o,re)\n",
    "print(sumjson(t,0))"
   ]
  },
  {
   "cell_type": "code",
   "execution_count": 55,
   "metadata": {},
   "outputs": [
    {
     "name": "stdout",
     "output_type": "stream",
     "text": [
      "{'David', 'Carol', 'Bob', 'Eric', 'George', 'Mallory', 'Alice', 'Frank'}\n"
     ]
    },
    {
     "data": {
      "text/plain": [
       "(668,\n",
       " ['Harold',\n",
       "  'Frank',\n",
       "  'Carol',\n",
       "  'Eric',\n",
       "  'Mallory',\n",
       "  'Bob',\n",
       "  'Alice',\n",
       "  'George',\n",
       "  'David'])"
      ]
     },
     "execution_count": 55,
     "metadata": {},
     "output_type": "execute_result"
    }
   ],
   "source": [
    "import re\n",
    "import itertools as it\n",
    "def parseline(l):\n",
    "    a=l.split(\" \")\n",
    "    return((a[0],a[10][:len(a[10])-1],(-1 if a[2][0]=='l' else 1)*int(a[3])))\n",
    "def score(l,L):\n",
    "    return sum(j[2] for i in range(len(l)) for j in L if j[0] in [l[i-1],l[i]] and j[1] in [l[i-1],l[i]]),l\n",
    "\n",
    "m={}\n",
    "L=[parseline(l) for l in open('13').read().split('\\n')]\n",
    "l={i[0] for i in L}\n",
    "print (l)\n",
    "#f=l.pop()\n",
    "max(score([\"Harold\"]+[*p],L) for p in it.permutations(l))\n",
    "\n"
   ]
  },
  {
   "cell_type": "code",
   "execution_count": 92,
   "metadata": {},
   "outputs": [
    {
     "name": "stdout",
     "output_type": "stream",
     "text": [
      "[('Vixen', 19, 7, 124), ('Rudolph', 3, 15, 28), ('Donner', 19, 9, 164), ('Blitzen', 19, 9, 158), ('Comet', 13, 7, 82), ('Cupid', 25, 6, 145), ('Dasher', 14, 3, 38), ('Dancer', 3, 16, 37), ('Prancer', 25, 6, 143)]\n",
      "{'Comet', 'Prancer', 'Rudolph', 'Dasher', 'Vixen', 'Donner', 'Cupid', 'Blitzen', 'Dancer'}\n",
      "(2660, 'Vixen')\n",
      "1256\n"
     ]
    }
   ],
   "source": [
    "def parseline(l):\n",
    "    a=l.split(\" \")\n",
    "    return(a[0],int(a[3]),int(a[6]),int(a[13]))\n",
    "def rt(r,t):\n",
    "    l = next(l for l in L if l[0]==r)\n",
    "    return(min(t%(l[2]+l[3]),l[2])*l[1] + l[1]*l[2]*(t//(l[2]+l[3])))\n",
    "def im(R,t):\n",
    "    S=[rt(r,t) for r in R]\n",
    "    return tuple(s==max(S) for s in S)\n",
    "def a(x,y):\n",
    "    return tuple(i+j for i,j in zip(x,y))\n",
    "\n",
    "L=[parseline(l) for l in open('14').read().split('\\n')]\n",
    "l={i[0] for i in L}\n",
    "print(L)\n",
    "print(l)\n",
    "print(max( (min(2503%(l[2]+l[3]),l[2])*l[1] + l[1]*l[2]*(2503//(l[2]+l[3])),l[0]) for l in L))\n",
    "s=[0]*len(l)\n",
    "for i in range(1,2504):\n",
    "    s=a(s,im(l,i))\n",
    "print(max(s))"
   ]
  },
  {
   "cell_type": "code",
   "execution_count": 40,
   "metadata": {},
   "outputs": [
    {
     "name": "stdout",
     "output_type": "stream",
     "text": [
      "Sugar: capacity 3, durability 0, flavor 0, texture -3, calories 2\n",
      "Sprinkles: capacity -3, durability 3, flavor 0, texture 0, calories 9\n",
      "Candy: capacity -1, durability 0, flavor 4, texture 0, calories 1\n",
      "Chocolate: capacity 0, durability 0, flavor -2, texture 2, calories 8\n",
      "(117936, (13, 24, 14, 27, 500), (21, 8, 26, 45))\n"
     ]
    }
   ],
   "source": [
    "import re\n",
    "import math\n",
    "L=[re.split(\": |, | \",l) for l in open('15').read().split('\\n')]\n",
    "print(open('15').read())\n",
    "L={l[0]:(int(l[2]),int(l[4]),int(l[6]),int(l[8]),int(l[10])) for l in L}\n",
    "t = lambda a,b,c,d: tuple(a*w+b*x+c*y+d*z for w,x,y,z in zip(L['Sugar'],L['Sprinkles'],L['Candy'],L['Chocolate']))\n",
    "s = lambda a,b,c,d,e: a*b*c*d if (a>0)*(b>0)*(c>0)*(d>0)*(e==500) else 0\n",
    "print(max((s(*t(a,b,c,100-a-b-c)),t(a,b,c,100-a-b-c),(a,b,c,100-a-b-c)) for a in range(0,101) for b in range(0,100-a+1) for c in range(0,100-b-a+1)))"
   ]
  },
  {
   "cell_type": "code",
   "execution_count": 85,
   "metadata": {},
   "outputs": [
    {
     "name": "stdout",
     "output_type": "stream",
     "text": [
      "['children: 3', 'cats: 7', 'samoyeds: 2', 'pomeranians: 3', 'akitas: 0', 'vizslas: 0', 'goldfish: 5', 'trees: 3', 'cars: 2', 'perfumes: 1']\n",
      "i=children:3 3\n",
      "i=pomeranians:3 3\n",
      "i=trees:3 3\n",
      "i=samoyeds:2 2\n",
      "i=perfumes:1 1\n",
      "i=vizslas:0 0\n",
      "i=vizslas:0 0\n",
      "i=vizslas:0 0\n",
      "i=samoyeds:2 2\n",
      "i=cars:2 2\n",
      "i=goldfish:5 5\n",
      "i=akitas:0 0\n",
      "i=goldfish:5 5\n",
      "i=akitas:0 0\n",
      "i=perfumes:1 1\n",
      "i=trees:3 3\n",
      "i=goldfish:5 5\n",
      "i=perfumes:1 1\n",
      "i=vizslas:0 0\n",
      "i=akitas:0 0\n",
      "i=pomeranians:3 3\n",
      "i=perfumes:1 1\n",
      "i=goldfish:5 5\n",
      "i=trees:3 3\n",
      "i=cars:2 2\n",
      "i=cars:2 2\n",
      "i=cars:2 2\n",
      "i=cars:2 2\n",
      "i=children:3 3\n",
      "i=goldfish:5 5\n",
      "i=samoyeds:2 2\n",
      "i=cars:2 2\n",
      "i=trees:3 3\n",
      "i=children:3 3\n",
      "i=samoyeds:2 2\n",
      "i=children:3 3\n",
      "i=goldfish:5 5\n",
      "i=cats:7 7\n",
      "i=akitas:0 0\n",
      "i=trees:3 3\n",
      "i=vizslas:0 0\n",
      "i=vizslas:0 0\n",
      "i=goldfish:5 5\n",
      "i=cars:2 2\n",
      "i=pomeranians:3 3\n",
      "i=vizslas:0 0\n",
      "i=akitas:0 0\n",
      "i=trees:3 3\n",
      "i=vizslas:0 0\n",
      "i=goldfish:5 5\n",
      "i=trees:3 3\n",
      "i=children:3 3\n",
      "i=akitas:0 0\n",
      "i=cats:7 7\n",
      "i=vizslas:0 0\n",
      "i=samoyeds:2 2\n",
      "260\n",
      "i=pomeranians:3 3\n",
      "i=cars:2 2\n",
      "i=trees:3 3\n",
      "i=vizslas:0 0\n",
      "i=cars:2 2\n",
      "i=cats:7 7\n",
      "i=cars:2 2\n",
      "i=akitas:0 0\n",
      "i=samoyeds:2 2\n",
      "i=cats:7 7\n",
      "i=children:3 3\n",
      "i=akitas:0 0\n",
      "i=akitas:0 0\n",
      "i=vizslas:0 0\n",
      "i=perfumes:1 1\n",
      "i=akitas:0 0\n",
      "i=perfumes:1 1\n",
      "i=perfumes:1 1\n",
      "i=trees:3 3\n",
      "i=vizslas:0 0\n",
      "i=vizslas:0 0\n",
      "i=cars:2 2\n",
      "i=pomeranians:3 3\n",
      "i=perfumes:1 1\n",
      "i=vizslas:0 0\n",
      "i=vizslas:0 0\n",
      "i=goldfish:5 5\n",
      "i=trees:3 3\n",
      "i=cats:7 7\n",
      "i=vizslas:0 0\n",
      "i=goldfish:5 5\n",
      "i=akitas:0 0\n",
      "i=samoyeds:2 2\n",
      "i=children:3 3\n",
      "i=pomeranians:3 3\n",
      "i=cars:2 2\n",
      "i=samoyeds:2 2\n",
      "i=akitas:0 0\n",
      "i=vizslas:0 0\n",
      "i=trees:3 3\n",
      "i=cats:7 7\n",
      "i=cars:2 2\n",
      "i=perfumes:1 1\n",
      "i=akitas:0 0\n",
      "i=trees:3 3\n",
      "i=children:3 3\n",
      "i=vizslas:0 0\n",
      "i=cats:7 7\n",
      "i=pomeranians:3 3\n",
      "i=children:3 3\n"
     ]
    }
   ],
   "source": [
    "L=[l for l in open('16').read().split('\\n')]\n",
    "#print(L)\n",
    "S=\"children: 3\\ncats: 7\\nsamoyeds: 2\\npomeranians: 3\\nakitas: 0\\nvizslas: 0\\ngoldfish: 5\\ntrees: 3\\ncars: 2\\nperfumes: 1\"\n",
    "S=S.split(\"\\n\")\n",
    "kv=lambda L:{s.split(\": \")[0]:int(s.split(\": \")[1]) for s in L}\n",
    "S2=kv(S)\n",
    "L={int(l[4:l.find(\":\")]):kv(l[l.find(\":\")+2:].split(\", \")) for l in L}\n",
    "#print(L)\n",
    "print(S)\n",
    "for k in L:\n",
    "    keep=True\n",
    "    for i in L[k]:\n",
    "        if i in S2:\n",
    "            if (L[k][i]==S2[i]):print(\"i=\"+i+\":\"+str(L[k][i])+\" \"+str(S2[i]))\n",
    "            if i in [\"cats\",\"trees\"]:\n",
    "                keep=keep and (L[k][i]>S2[i])\n",
    "            elif i in [\"pomeranians\",\"goldfish\"]:\n",
    "                keep=keep and (L[k][i]<S2[i])\n",
    "            else:\n",
    "                keep=keep and (L[k][i]==S2[i])\n",
    "        else:\n",
    "            print(\"missing\")\n",
    "            keep=False\n",
    "    if keep:print(k)\n",
    "\n"
   ]
  },
  {
   "cell_type": "code",
   "execution_count": 15,
   "metadata": {},
   "outputs": [
    {
     "name": "stdout",
     "output_type": "stream",
     "text": [
      "[33, 14, 18, 20, 45, 35, 16, 35, 1, 13, 18, 13, 50, 44, 48, 6, 24, 41, 30, 42]\n",
      "1304\n",
      "4\n",
      "18\n"
     ]
    }
   ],
   "source": [
    "import itertools\n",
    "L=[l for l in open('17').read().split('\\n')]\n",
    "L=list(map(int,L))\n",
    "print(L)\n",
    "r=[c for r in range(4,21) for c in itertools.combinations(L,r) if sum(c)==150]\n",
    "print(len(r))\n",
    "print(min(map(len,r)))\n",
    "r4=[c for c in itertools.combinations(L,4) if sum(c)==150]\n",
    "print(len(r4))"
   ]
  },
  {
   "cell_type": "code",
   "execution_count": 48,
   "metadata": {},
   "outputs": [
    {
     "name": "stdout",
     "output_type": "stream",
     "text": [
      "[[0, 0, 0, 0, 0, 0, 0, 0], [0, 1, 1, 0, 1, 0, 1, 0], [0, 0, 0, 0, 1, 1, 0, 0], [0, 1, 0, 0, 0, 0, 1, 0], [0, 0, 0, 1, 0, 0, 0, 0], [0, 1, 0, 1, 0, 0, 1, 0], [0, 1, 1, 1, 1, 0, 1, 0], [0, 0, 0, 0, 0, 0, 0, 0]]\n",
      "[[0, 0, 0, 0, 0, 0, 0, 0], [0, False, False, True, True, False, False, 0], [0, True, True, True, True, False, True, 0], [0, False, False, False, True, True, False, 0], [0, False, False, False, False, False, False, 0], [0, True, False, False, False, True, False, 0], [0, True, False, True, True, True, False, 0], [0, 0, 0, 0, 0, 0, 0, 0]]\n",
      "[[0, 0, 0, 0, 0, 0, 0, 0], [0, False, False, False, True, True, False, 0], [0, False, True, False, False, False, False, 0], [0, False, True, False, True, True, False, 0], [0, False, False, False, True, True, False, 0], [0, False, True, False, False, True, False, 0], [0, False, True, False, True, True, False, 0], [0, 0, 0, 0, 0, 0, 0, 0]]\n",
      "[[0, 0, 0, 0, 0, 0, 0, 0], [0, False, False, False, False, False, False, 0], [0, False, False, False, False, False, False, 0], [0, False, False, False, True, True, False, 0], [0, False, False, False, False, False, True, 0], [0, False, False, False, False, False, True, 0], [0, False, False, True, True, True, False, 0], [0, 0, 0, 0, 0, 0, 0, 0]]\n",
      "[[0, 0, 0, 0, 0, 0, 0, 0], [0, False, False, False, False, False, False, 0], [0, False, False, False, False, False, False, 0], [0, False, False, False, False, True, False, 0], [0, False, False, False, False, False, True, 0], [0, False, False, False, True, False, True, 0], [0, False, False, False, True, True, False, 0], [0, 0, 0, 0, 0, 0, 0, 0]]\n",
      "5\n"
     ]
    }
   ],
   "source": [
    "from itertools import product as pd\n",
    "from copy import deepcopy\n",
    "a = lambda x,y: tuple(i+j for i,j in zip(x,y))\n",
    "v=[-1,0,1]\n",
    "n=lambda i,j:sum( L[i+x][j+y] for x in v for y in v)\n",
    "t=lambda i:L()\n",
    "L=[l for l in open('18bis').read().split('\\n')]\n",
    "L=[[0]*(len(L[0])+2)]+list(map(lambda x:[0]+[1 if k==\"#\" else 0 for k in x]+[0],L))+[[0]*(len(L[0])+2)]\n",
    "v=[-1,0,1]\n",
    "L[1][1]=1;L[1][len(L)-2]=1;L[len(L)-2][1]=1;L[len(L)-2][len(L)-2]=1\n",
    "for _ in range(5):\n",
    "    Lt=deepcopy(L)\n",
    "    print(L)\n",
    "    for i in range(1,len(L)-1):\n",
    "        for j in range(1,len(L[0])-1):\n",
    "            Lt[i][j] = (L[i][j],n(i,j)) in [(1,3),(1,4),(0,3)]\n",
    "    L[1][1]=1;L[1][len(L)-2]=1;L[len(L)-2][1]=1;L[len(L)-2][len(L)-2]=1\n",
    "    L=Lt\n",
    "print(sum(s for l in L for s in l))"
   ]
  },
  {
   "cell_type": "code",
   "execution_count": 1,
   "metadata": {},
   "outputs": [
    {
     "name": "stdout",
     "output_type": "stream",
     "text": [
      "518\n"
     ]
    }
   ],
   "source": [
    "R,S=open('19').read().split('\\n\\n')\n",
    "R=[tuple(l.split(\" => \")) for l in R.split(\"\\n\")]\n",
    "L={ S[:c]+t[1]+S[c+len(t[0]):] for c in range(len(S)) for t in R if t[0]==S[c:c+len(t[0])]}\n",
    "print(len(L))"
   ]
  },
  {
   "cell_type": "code",
   "execution_count": null,
   "metadata": {},
   "outputs": [
    {
     "name": "stdout",
     "output_type": "stream",
     "text": [
      "(0, 3, 3)\n",
      "(1, 18, 11)\n",
      "(2, 105, 14)\n",
      "(3, 607, 20)\n",
      "(4, 3566, 23)\n",
      "(5, 21287, 29)\n",
      "(6, 129071, 32)\n",
      "(7, 793306, 38)\n"
     ]
    }
   ],
   "source": [
    "L={'e'}\n",
    "s=0\n",
    "while(not(S in L)):\n",
    "    L={ S[:c]+t[1]+S[c+len(t[0]):] for S in L for c in range(len(S)) for t in R if t[0]==S[c:c+len(t[0])]}\n",
    "    print((s,len(L),max(len(t) for t in L)))\n",
    "    s+=1\n",
    "print(s)\n",
    "Ar,Rn ==> rm\n",
    "rm(min)\n",
    "Len - count(Y)*2"
   ]
  },
  {
   "cell_type": "code",
   "execution_count": 6,
   "metadata": {},
   "outputs": [
    {
     "name": "stdout",
     "output_type": "stream",
     "text": [
      "CSiCaPTiMgYCaPTiFSiThFCaSiThSiThPBCaCaSiSiTiTiMgPBCaPMgYPTiFFCaSiBPMgPCaPTiFCaSiThCaCaFPBCaCaPTiTiFCaSiSiAlYSiThFCaSiBFCaCaSiSiThCaCaCaFYCaPTiBCaSiThCaSiThPMgSiCaPBFYCaCaFCaCaCaCaSiThCaSiPFPBSiThPFSiMgCaFYFCaSiSiAlTiTiTiTiTiTiTiPMgPTiTiTiBSiSiAlTiTiPMgCaFYBPBPTiSiMgSiThCaFCaSiThFPFCaSiTiBSiThSiSiAlYCaFPFSiThCaFCaCaSiThCaCaCaSiPCaFFYPMgCaPBCaPBSiFYPBCaFCaSiAl\n",
      "200\n"
     ]
    }
   ],
   "source": [
    "S=S.replace('Ar','').replace('Rn','')\n",
    "print(S)\n",
    "y=sum(c=='Y' for c in S)\n",
    "m=sum('A'<=c<='Z' for c in S)\n",
    "print((m-2*y-1))"
   ]
  },
  {
   "cell_type": "code",
   "execution_count": null,
   "metadata": {},
   "outputs": [],
   "source": [
    "print(next(n for n in range(1,100000) if 10*sum(j*((n%j)==0) for j in range(1,n+1))==36000000))"
   ]
  },
  {
   "cell_type": "code",
   "execution_count": null,
   "metadata": {},
   "outputs": [
    {
     "name": "stdout",
     "output_type": "stream",
     "text": [
      "60 1837 30.616666666666667 0\n",
      "120 3927 32.725 0\n",
      "180 5940 33.0 0\n",
      "240 8074 33.641666666666666 0\n",
      "300 9317 31.05666666666667 0\n",
      "360 12639 35.108333333333334 0\n",
      "420 14476 34.46666666666667 0\n",
      "480 16313 33.985416666666666 0\n",
      "540 18040 33.407407407407405 0\n",
      "600 19899 33.165 0\n",
      "660 21582 32.7 0\n",
      "720 25938 36.025 0\n",
      "840 30723 36.575 0\n",
      "960 32626 33.985416666666666 0\n",
      "1080 38357 35.51574074074074 0\n",
      "1200 40898 34.08166666666666 0\n",
      "1260 46431 36.85 0\n",
      "1440 52371 36.36875 0\n",
      "1560 53471 34.27628205128205 0\n",
      "1620 54120 33.407407407407405 0\n",
      "1680 62986 37.49166666666667 0\n",
      "1800 63987 35.54833333333333 0\n",
      "1920 65252 33.985416666666666 0\n",
      "1980 69465 35.083333333333336 0\n",
      "2100 73304 34.906666666666666 0\n",
      "2160 78694 36.43240740740741 0\n",
      "2340 80850 34.55128205128205 0\n",
      "2400 82621 34.42541666666666 0\n",
      "2520 98175 38.958333333333336 0\n",
      "2880 104742 36.36875 0\n",
      "3120 109802 35.19294871794872 0\n",
      "3240 115071 35.51574074074074 0\n",
      "3360 127127 37.83541666666667 0\n",
      "3600 131274 36.465 0\n",
      "3780 140833 37.257407407407406 0\n",
      "3960 147279 37.19166666666667 0\n",
      "4200 155463 37.015 0\n",
      "4320 158873 36.77615740740741 0\n",
      "4620 168861 36.55 0\n",
      "4680 171567 36.659615384615385 0\n",
      "5040 200970 39.875 0\n",
      "5760 209484 36.36875 0\n",
      "5880 216381 36.79948979591837 0\n",
      "6120 220803 36.07892156862745 0\n",
      "6240 221749 35.53669871794872 0\n",
      "6300 234927 37.29 0\n",
      "6480 236082 36.43240740740741 0\n",
      "6720 254254 37.83541666666667 0\n",
      "7200 265023 36.80875 0\n",
      "7560 297605 39.36574074074074 0\n",
      "7920 301818 38.108333333333334 0\n",
      "8400 318626 37.931666666666665 0\n",
      "8820 326997 37.07448979591837 0\n",
      "9240 357203 38.65833333333333 0\n",
      "10080 405405 40.21875 1\n",
      "10920 416339 38.126282051282054 1\n",
      "11340 422499 37.257407407407406 1\n",
      "11760 443542 37.71615646258503 1\n",
      "11880 446677 37.599074074074075 1\n",
      "12240 452826 36.995588235294115 1\n",
      "12600 496419 39.39833333333333 1\n",
      "13440 508508 37.83541666666667 1\n",
      "13860 539616 38.93333333333333 1\n",
      "15120 609070 40.282407407407405 1\n",
      "15840 609081 38.452083333333334 1\n",
      "16380 629013 38.40128205128205 1\n",
      "16800 643027 38.275416666666665 1\n",
      "17640 691185 39.1828231292517 1\n",
      "18480 731346 39.575 2\n",
      "19800 745107 37.63166666666667 2\n",
      "20160 810810 40.21875 2\n",
      "21840 852698 39.04294871794872 2\n",
      "22680 892815 39.36574074074074 2\n",
      "23520 895169 38.05990646258503 2\n",
      "23760 915134 38.51574074074074 2\n",
      "25200 1015938 40.315 2\n",
      "26880 1017016 37.83541666666667 2\n",
      "27360 1018809 37.23717105263158 2\n",
      "27720 1137675 41.041666666666664 3\n",
      "30240 1228535 40.626157407407405 3\n",
      "32760 1327095 40.50961538461539 3\n",
      "35280 1414710 40.099489795918366 3\n",
      "36960 1475397 39.91875 4\n",
      "37800 1504657 39.80574074074074 4\n",
      "39600 1526514 38.54833333333333 4\n",
      "40320 1621620 40.21875 4\n",
      "41580 1635788 39.34074074074074 4\n",
      "42840 1710555 39.92892156862745 4\n",
      "43680 1720411 39.38669871794872 4\n",
      "45360 1827210 40.282407407407405 5\n",
      "47520 1846603 38.85949074074074 5\n",
      "47880 1906905 39.82675438596491 5\n",
      "49140 1907059 38.80868945868946 5\n",
      "50400 2049201 40.65875 5\n",
      "52920 2095115 39.59023053665911 5\n",
      "54600 2105719 38.56628205128205 5\n",
      "55440 2326170 41.958333333333336 6\n",
      "60480 2457070 40.626157407407405 6\n",
      "63000 2482095 39.39833333333333 6\n",
      "64680 2514941 38.8828231292517 6\n",
      "65520 2714250 41.42628205128205 7\n",
      "69300 2728572 39.373333333333335 7\n",
      "70560 2853675 40.443239795918366 7\n",
      "73080 2874795 39.33764367816092 7\n",
      "73920 2950794 39.91875 8\n",
      "75600 3078614 40.72240740740741 8\n",
      "79200 3080253 38.89208333333333 8\n",
      "80640 3243240 40.21875 9\n",
      "83160 3446905 41.449074074074076 9\n",
      "85680 3499650 40.845588235294116 9\n",
      "90720 3685605 40.626157407407405 10\n",
      "92400 3697386 40.015 10\n",
      "95760 3901590 40.74342105263158 10\n",
      "98280 4021325 40.91702279202279 11\n",
      "100800 4098402 40.65875 11\n",
      "105840 4287250 40.50689720332578 11\n",
      "109200 4311538 39.482948717948716 11\n",
      "110880 4690455 42.302083333333336 13\n",
      "115920 4705470 40.59239130434783 13\n",
      "120120 4829979 40.20961538461538 13\n",
      "120960 4914140 40.626157407407405 13\n",
      "126000 5079690 40.315 14\n",
      "128520 5184025 40.33632897603486 14\n",
      "131040 5473545 41.77003205128205 15\n",
      "136080 5481630 40.282407407407405 15\n",
      "138600 5749359 41.48166666666667 15\n",
      "143640 5779235 40.23416179337232 16\n",
      "146160 5883570 40.25431034482759 16\n",
      "147840 5901588 39.91875 16\n",
      "151200 6209203 41.06615740740741 17\n",
      "156240 6285510 40.229838709677416 17\n",
      "161280 6486480 40.21875 18\n",
      "163800 6707547 40.949615384615385 18\n",
      "166320 7046270 42.36574074074074 19\n",
      "171360 7058205 41.189338235294116 19\n",
      "176400 7151166 40.53948979591837 19\n",
      "180180 7294518 40.48461538461538 20\n",
      "181440 7371210 40.626157407407405 20\n",
      "184800 7458297 40.35875 20\n",
      "186480 7491330 40.1722972972973 20\n",
      "189000 7523285 39.80574074074074 20\n",
      "191520 7869015 41.08717105263158 21\n",
      "194040 8007285 41.26615646258504 22\n",
      "196560 8222830 41.833689458689456 22\n",
      "205920 8237493 40.003365384615385 22\n",
      "206640 8295210 40.14329268292683 23\n",
      "211680 8647265 40.85064720332578 24\n",
      "216720 8697150 40.13081395348837 24\n",
      "218400 8698151 39.826698717948716 24\n",
      "219240 8713705 39.74505108556833 24\n",
      "221760 9380910 42.302083333333336 26\n",
      "231840 9490635 40.93614130434783 26\n",
      "236880 9501030 40.109042553191486 26\n",
      "239400 9639861 40.266754385964916 26\n",
      "240240 9880178 41.126282051282054 27\n",
      "246960 9902970 40.099489795918366 27\n",
      "249480 10340715 41.449074074074076 28\n",
      "257040 10603670 41.25299564270153 29\n",
      "262080 10947090 41.77003205128205 30\n",
      "272160 11056815 40.626157407407405 30\n",
      "277200 11752818 42.39833333333333 32\n",
      "287280 11821810 41.15082846003899 32\n",
      "292320 11867625 40.59806034482759 32\n",
      "294840 12063975 40.91702279202279 33\n",
      "302400 12418406 41.06615740740741 34\n",
      "304920 12514425 41.041666666666664 34\n",
      "312480 12678435 40.573588709677416 35\n",
      "314160 12737802 40.54558823529412 35\n",
      "317520 12861750 40.50689720332578 35\n",
      "322560 12972960 40.21875 36\n",
      "327600 13715394 41.86628205128205 38\n",
      "332640 14206885 42.70949074074074 39\n",
      "347760 14258090 40.99979871175523 39\n",
      "352800 14423607 40.88323979591837 40\n",
      "360360 15348795 42.592948717948715 42\n",
      "378000 15393070 40.72240740740741 42\n",
      "383040 15738030 41.08717105263158 43\n",
      "388080 16370310 42.1828231292517 45\n",
      "393120 16580795 42.177439458689456 46\n",
      "413280 16732485 40.48704268292683 46\n",
      "415800 17417477 41.889074074074074 48\n",
      "428400 17686746 41.28558823529412 49\n",
      "438480 17829350 40.66171775223499 49\n",
      "443520 18761820 42.302083333333336 52\n",
      "458640 19102710 41.65077184720042 53\n",
      "471240 19797855 42.01225490196079 54\n",
      "480480 19925521 41.470032051282054 55\n",
      "491400 20322841 41.35702279202279 56\n",
      "498960 21138810 42.36574074074074 58\n",
      "514080 21384055 41.59674564270153 59\n",
      "524160 21894180 41.77003205128205 60\n",
      "526680 22073205 41.91008771929825 61\n",
      "540540 22103774 40.89202279202279 61\n",
      "544320 22113630 40.626157407407405 61\n",
      "554400 23696211 42.74208333333333 65\n",
      "574560 23841125 41.49457846003899 66\n",
      "582120 24259015 41.67356386999244 67\n",
      "589680 24668490 41.833689458689456 68\n",
      "604800 24836812 41.06615740740741 68\n",
      "609840 25587870 41.958333333333336 71\n",
      "622440 25755345 41.37803643724696 71\n",
      "635040 25941795 40.85064720332578 72\n",
      "637560 26623905 41.75905797101449 73\n",
      "655200 27656013 42.21003205128205 76\n",
      "665280 28413770 42.70949074074074 78\n",
      "693000 28746795 41.48166666666667 79\n",
      "695520 28755265 41.34354871175523 79\n",
      "705600 28847214 40.88323979591837 80\n",
      "718200 29212183 40.67416179337232 81\n",
      "720720 31358250 43.50961538461539 87\n",
      "766080 31476060 41.08717105263158 87\n",
      "771120 31811010 41.25299564270153 88\n",
      "776160 33007425 42.5265731292517 91\n",
      "786240 33161590 42.177439458689456 92\n",
      "803880 33297495 41.42097701149425 92\n",
      "819000 33537735 40.949615384615385 93\n",
      "831600 35597254 42.80574074074074 98\n",
      "856800 35668017 41.62933823529412 99\n",
      "876960 35960155 41.00546775223499 99\n",
      "884520 36191925 40.91702279202279 100\n",
      "887040 37523640 42.302083333333336 104\n",
      "914760 37915955 41.449074074074076 105\n",
      "917280 38520735 41.99452184720042 107\n",
      "942480 40459650 42.92892156862745 112\n",
      "970200 40463313 41.706156462585035 112\n",
      "982800 41546582 42.27368945868946 115\n",
      "997920 42620655 42.70949074074074 118\n",
      "1028160 42768110 41.59674564270153 118\n",
      "1043280 42774270 40.99979871175523 118\n",
      "1048320 43788360 41.77003205128205 121\n",
      "1053360 45111990 42.82675438596491 125\n",
      "1081080 46486825 43.00035612535613 129\n",
      "1108800 47392422 42.74208333333333 131\n",
      "1149120 47682250 41.49457846003899 132\n",
      "1159200 47963223 41.376141304347826 133\n",
      "1164240 49585250 42.59023053665911 137\n",
      "1179360 49742385 42.177439458689456 138\n",
      "1201200 49929418 41.56628205128205 138\n",
      "1219680 51595005 42.302083333333336 143\n",
      "1244880 52651830 42.29470310391363 146\n",
      "1275120 54416670 42.67572463768116 151\n",
      "1310400 55312026 42.21003205128205 153\n",
      "1330560 56827540 42.70949074074074 157\n"
     ]
    },
    {
     "name": "stdout",
     "output_type": "stream",
     "text": [
      "1375920 57868690 42.05817925460783 160\n",
      "1386000 58764090 42.39833333333333 163\n",
      "1413720 59969525 42.41966230936819 166\n",
      "1441440 63211995 43.85336538461539 175\n",
      "1496880 63416430 42.36574074074074 176\n",
      "1506960 63508830 42.14367335562988 176\n",
      "1542240 64152165 41.59674564270153 178\n",
      "1552320 66014850 42.5265731292517 183\n"
     ]
    }
   ],
   "source": [
    "m=0\n",
    "import math\n",
    "for n in range(60,36000000,60):\n",
    "    c=11*sum(((n%j)==0)*(j*((n//j)<50)+(n//j)*(j<50)) for j in range(1,int(math.sqrt(n))+1))\n",
    "    if c>m:\n",
    "        print(n,c,c/n,c*100//36000000)\n",
    "        m=c\n"
   ]
  },
  {
   "cell_type": "code",
   "execution_count": 26,
   "metadata": {},
   "outputs": [
    {
     "name": "stdout",
     "output_type": "stream",
     "text": [
      "{'boss': 71, 'player': 50, 'mana': 500, 'shield': 0, 'poison': 0, 'recharge': 0}\n",
      "Shield\n",
      "{'boss': 71, 'player': 46, 'mana': 387, 'shield': 5, 'poison': 0, 'recharge': 0}\n",
      "Poison\n",
      "{'boss': 68, 'player': 42, 'mana': 214, 'shield': 3, 'poison': 5, 'recharge': 0}\n",
      "Recharge\n",
      "{'boss': 62, 'player': 38, 'mana': 86, 'shield': 1, 'poison': 3, 'recharge': 4}\n",
      "Shield\n",
      "{'boss': 56, 'player': 34, 'mana': 175, 'shield': 5, 'poison': 1, 'recharge': 2}\n",
      "Poison\n",
      "{'boss': 50, 'player': 30, 'mana': 204, 'shield': 3, 'poison': 5, 'recharge': 0}\n",
      "Recharge\n",
      "{'boss': 44, 'player': 26, 'mana': 76, 'shield': 1, 'poison': 3, 'recharge': 4}\n",
      "Shield\n",
      "{'boss': 38, 'player': 22, 'mana': 165, 'shield': 5, 'poison': 1, 'recharge': 2}\n",
      "Poison\n",
      "{'boss': 32, 'player': 18, 'mana': 194, 'shield': 3, 'poison': 5, 'recharge': 0}\n",
      "Recharge\n",
      "{'boss': 26, 'player': 14, 'mana': 66, 'shield': 1, 'poison': 3, 'recharge': 4}\n",
      "Shield\n",
      "{'boss': 20, 'player': 10, 'mana': 155, 'shield': 5, 'poison': 1, 'recharge': 2}\n",
      "Poison\n",
      "{'boss': 14, 'player': 6, 'mana': 184, 'shield': 3, 'poison': 5, 'recharge': 0}\n",
      "Magic\n",
      "{'boss': 4, 'player': 2, 'mana': 131, 'shield': 1, 'poison': 3, 'recharge': 0}\n",
      "Magic\n",
      "{'boss': -3, 'player': 1, 'mana': 78, 'shield': 0, 'poison': 2, 'recharge': 0}\n",
      "1937\n"
     ]
    }
   ],
   "source": [
    "#Magic Missile costs 53 mana. It instantly does 4 damage.\n",
    "#Drain costs 73 mana. It instantly does 2 damage and heals you for 2 hit points.\n",
    "#Shield costs 113 mana. It starts an effect that lasts for 6 turns. While it is active, your armor is increased by 7.\n",
    "#Poison costs 173 mana. It starts an effect that lasts for 6 turns. At the start of each turn while it is active, it deals the boss 3 damage.\n",
    "#Recharge costs 229 mana. It starts an effect that lasts for 5 turns. At the start of each turn while it is active, it gives you 101 new mana.\n",
    "\n",
    "S={'boss':71,'player':50,'mana':500,'shield':0,'poison':0,'recharge':0}\n",
    "\n",
    "def play(S,spent,action):\n",
    "    print(action)\n",
    "    if S['recharge']:\n",
    "        S['recharge']=S['recharge']-1\n",
    "        S['mana']=S['mana']+101\n",
    "    if S['poison']:\n",
    "        S['poison']=S['poison']-1    \n",
    "        S['boss']=S['boss']-3\n",
    "    if S['boss'] <= 0:return(S,spent)\n",
    "    if S['shield']:\n",
    "        S['shield']=S['shield']-1\n",
    "    S['player']=S['player']-1\n",
    "    if action=='Magic':\n",
    "        S['boss']=S['boss']-4\n",
    "        S['mana']=S['mana']-53\n",
    "        spent+=53\n",
    "    if action=='Drain':\n",
    "        S['boss']=S['boss']-2\n",
    "        S['player']=S['player']+2\n",
    "        S['mana']=S['mana']-73\n",
    "        spent+=73\n",
    "    if action=='Shield':\n",
    "        S['shield']=6\n",
    "        S['mana']=S['mana']-113\n",
    "        spent+=113\n",
    "    if action=='Poison':\n",
    "        S['poison']=6\n",
    "        S['mana']=S['mana']-173\n",
    "        spent+=173\n",
    "    if action=='Recharge':\n",
    "        S['recharge']=5\n",
    "        S['mana']=S['mana']-229\n",
    "        spent+=229\n",
    "    if S['boss'] <= 0:return(S,spent)\n",
    "    \n",
    "    if S['recharge']:\n",
    "        S['recharge']=S['recharge']-1\n",
    "        S['mana']=S['mana']+101\n",
    "    if S['poison']:\n",
    "        S['poison']=S['poison']-1    \n",
    "        S['boss']=S['boss']-3\n",
    "    if S['boss'] <= 0:return(S,spent)\n",
    "       \n",
    "    if S['shield']:\n",
    "        S['player']=S['player']-3\n",
    "        S['shield']=S['shield']-1\n",
    "    else:\n",
    "        S['player']=S['player']-10\n",
    "    if S['player'] <= 0:return(S,spent)\n",
    "    return(S,spent)\n",
    "print(S)\n",
    "spent=0\n",
    "S,spent=play(S,spent,\"Shield\")\n",
    "print(S)\n",
    "S,spent=play(S,spent,\"Poison\")\n",
    "print(S)\n",
    "S,spent=play(S,spent,\"Recharge\")\n",
    "print(S)\n",
    "S,spent=play(S,spent,\"Shield\")\n",
    "print(S)\n",
    "S,spent=play(S,spent,\"Poison\")\n",
    "print(S)\n",
    "S,spent=play(S,spent,\"Recharge\")\n",
    "print(S)\n",
    "S,spent=play(S,spent,\"Shield\")\n",
    "print(S)\n",
    "S,spent=play(S,spent,\"Poison\")\n",
    "print(S)\n",
    "S,spent=play(S,spent,\"Recharge\")\n",
    "print(S)\n",
    "S,spent=play(S,spent,\"Shield\")\n",
    "print(S)\n",
    "S,spent=play(S,spent,\"Poison\")\n",
    "print(S)\n",
    "S,spent=play(S,spent,\"Magic\")\n",
    "print(S)\n",
    "S,spent=play(S,spent,\"Magic\")\n",
    "print(S)\n",
    "print(spent)\n",
    "\n",
    "        \n",
    "    \n",
    "\n",
    "\n"
   ]
  },
  {
   "cell_type": "code",
   "execution_count": 5,
   "metadata": {},
   "outputs": [
    {
     "name": "stdout",
     "output_type": "stream",
     "text": [
      "['jio a, +16', 'inc a', 'inc a', 'tpl a', 'tpl a', 'tpl a', 'inc a', 'inc a', 'tpl a', 'inc a', 'inc a', 'tpl a', 'tpl a', 'tpl a', 'inc a', 'jmp +23', 'tpl a', 'inc a', 'inc a', 'tpl a', 'inc a', 'inc a', 'tpl a', 'tpl a', 'inc a', 'inc a', 'tpl a', 'inc a', 'tpl a', 'inc a', 'tpl a', 'inc a', 'inc a', 'tpl a', 'inc a', 'tpl a', 'tpl a', 'inc a', 'jio a, +8', 'inc b', 'jie a, +4', 'tpl a', 'inc a', 'jmp +2', 'hlf a', 'jmp -7']\n",
      "(1, 170)\n",
      "(1, 247)\n"
     ]
    }
   ],
   "source": [
    "C=open('23').read().split('\\n')\n",
    "print(C)\n",
    "def step(C,a,b,c):\n",
    "    cmd=C[c][0:3]\n",
    "    if cmd==\"inc\":\n",
    "        if C[c][4]==\"a\":a+=1\n",
    "        else:b+=1\n",
    "    if cmd==\"tpl\":\n",
    "        if C[c][4]==\"a\":a*=3\n",
    "        else:b*=3\n",
    "    if cmd==\"hlf\":\n",
    "        if C[c][4]==\"a\":a=a//2\n",
    "        else:b=b//2\n",
    "    if cmd==\"jmp\":c+=int(C[c][4:])-1\n",
    "    if cmd==\"jie\" and ((C[c][4]=='a' and a%2==0) or (C[c][4]=='b' and b%2==0)):c+=int(C[c][7:])-1\n",
    "    if cmd==\"jio\" and ((C[c][4]=='a' and a==1) or (C[c][4]=='b' and b==1)):c+=int(C[c][7:])-1\n",
    "    c+=1\n",
    "    return a,b,c\n",
    "a,b,c=0,0,0\n",
    "while(c<len(C)):a,b,c=step(C,a,b,c)\n",
    "print((a,b))\n",
    "a,b,c=1,0,0\n",
    "while(c<len(C)):a,b,c=step(C,a,b,c)\n",
    "print((a,b))\n"
   ]
  },
  {
   "cell_type": "code",
   "execution_count": 16,
   "metadata": {},
   "outputs": [
    {
     "name": "stdout",
     "output_type": "stream",
     "text": [
      "516\n"
     ]
    }
   ],
   "source": [
    "from itertools import combinations \n",
    "C=open('24').read().split('\\n')\n",
    "C=[int(c) for c in C]\n",
    "print(sum(C)//3)\n",
    "\n",
    "G=[i for j in range(5,18) for i in combinations(C,j) if sum(i)==516]\n"
   ]
  },
  {
   "cell_type": "code",
   "execution_count": 26,
   "metadata": {},
   "outputs": [
    {
     "name": "stdout",
     "output_type": "stream",
     "text": [
      "[(1, 83, 103, 107, 109, 113)]\n",
      "387\n"
     ]
    }
   ],
   "source": [
    "import math\n",
    "print(([g for g in G if len(g)==6 and math.prod(g)==11266889531]))\n",
    "print(sum(C)//4)\n",
    "G2=[i for j in range(4,16) for i in combinations(C,j) if sum(i)==387]\n"
   ]
  },
  {
   "cell_type": "code",
   "execution_count": 29,
   "metadata": {},
   "outputs": [
    {
     "name": "stdout",
     "output_type": "stream",
     "text": [
      "77387711\n"
     ]
    }
   ],
   "source": [
    "print(min([math.prod(g) for g in G2 if len(g)==5]))\n",
    "\n"
   ]
  },
  {
   "cell_type": "code",
   "execution_count": 45,
   "metadata": {},
   "outputs": [
    {
     "name": "stdout",
     "output_type": "stream",
     "text": [
      "19980801\n"
     ]
    }
   ],
   "source": [
    "#To continue, please consult the code grid in the manual.  Enter the code at row 2947, column 3029\n",
    "def postonum(i,j):return (i+j-1)*(i+j)//2 - i + 1\n",
    "def nextcode(x):return (x*252533)%33554393\n",
    "c=20151125\n",
    "for _ in range(17850354-1):c=nextcode(c)\n",
    "print(c)\n"
   ]
  },
  {
   "cell_type": "code",
   "execution_count": 44,
   "metadata": {},
   "outputs": [
    {
     "name": "stdout",
     "output_type": "stream",
     "text": [
      "17850354\n",
      "31916031\n",
      "18749137\n",
      "16080970\n",
      "21629792\n",
      "17289845\n",
      "24592653\n",
      "8057251\n",
      "16929656\n",
      "30943339\n",
      "77061\n",
      "32451966\n",
      "1601130\n",
      "7726640\n",
      "10071777\n",
      "33071741\n",
      "17552253\n",
      "21345942\n",
      "7981243\n",
      "15514188\n",
      "33511524\n",
      "12231762\n",
      "6796745\n",
      "28094349\n",
      "9380097\n",
      "11661866\n",
      "4041754\n",
      "18736608\n",
      "6207955\n",
      "18704662\n",
      "25397450\n",
      "6899651\n",
      "10600672\n",
      "16474243\n",
      "15037021\n",
      "26922776\n",
      "31173162\n",
      "22423223\n",
      "31519965\n",
      "24659492\n",
      "9250759\n",
      "31527494\n",
      "13380048\n",
      "9840877\n",
      "7182682\n",
      "14411105\n",
      "3668578\n",
      "217344\n",
      "25099797\n",
      "1534922\n",
      "31663883\n",
      "29296167\n",
      "8600406\n",
      "11132687\n",
      "16028666\n",
      "20209\n",
      "3171661\n",
      "5706403\n",
      "28107021\n",
      "21810938\n",
      "27995004\n"
     ]
    }
   ],
   "source": [
    "print(postonum(2947,3029)) #2947, column 3029.\n",
    "c=20151125\n",
    "for _ in range(60):c=nextcode(c);print(c)\n"
   ]
  },
  {
   "cell_type": "code",
   "execution_count": 40,
   "metadata": {},
   "outputs": [
    {
     "data": {
      "text/plain": [
       "31916031"
      ]
     },
     "execution_count": 40,
     "metadata": {},
     "output_type": "execute_result"
    }
   ],
   "source": [
    "(20151125*252533)%33554393"
   ]
  }
 ],
 "metadata": {
  "kernelspec": {
   "display_name": "Python 3",
   "language": "python",
   "name": "python3"
  },
  "language_info": {
   "codemirror_mode": {
    "name": "ipython",
    "version": 3
   },
   "file_extension": ".py",
   "mimetype": "text/x-python",
   "name": "python",
   "nbconvert_exporter": "python",
   "pygments_lexer": "ipython3",
   "version": "3.8.5"
  }
 },
 "nbformat": 4,
 "nbformat_minor": 4
}
